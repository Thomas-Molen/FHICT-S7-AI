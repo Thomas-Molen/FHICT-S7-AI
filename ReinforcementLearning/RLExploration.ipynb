{
 "cells": [
  {
   "cell_type": "markdown",
   "metadata": {},
   "source": [
    "This notebook explores the basics of Reinforcement learning after attending the RL workshop"
   ]
  },
  {
   "cell_type": "markdown",
   "metadata": {},
   "source": [
    "First the recommended How to apply? [Tabular Q-learning with Gym tutorial](https://towardsdatascience.com/reinforcement-learning-with-openai-d445c2c687d2) is followed.  \n",
    "NOTE: This blog post is not followed exactly, as it leaves out some very usefull information, has outdated code examples, and performs some very situationally dependant actions which does not work well when copying the steps taken over"
   ]
  },
  {
   "cell_type": "markdown",
   "metadata": {},
   "source": [
    "Lets view all our installed environments"
   ]
  },
  {
   "cell_type": "code",
   "execution_count": 6,
   "metadata": {},
   "outputs": [
    {
     "name": "stdout",
     "output_type": "stream",
     "text": [
      "dict_keys(['CartPole-v0', 'CartPole-v1', 'MountainCar-v0', 'MountainCarContinuous-v0', 'Pendulum-v1', 'Acrobot-v1', 'LunarLander-v2', 'LunarLanderContinuous-v2', 'BipedalWalker-v3', 'BipedalWalkerHardcore-v3', 'CarRacing-v2', 'Blackjack-v1', 'FrozenLake-v1', 'FrozenLake8x8-v1', 'CliffWalking-v0', 'Taxi-v3', 'Reacher-v2', 'Reacher-v4', 'Pusher-v2', 'Pusher-v4', 'InvertedPendulum-v2', 'InvertedPendulum-v4', 'InvertedDoublePendulum-v2', 'InvertedDoublePendulum-v4', 'HalfCheetah-v2', 'HalfCheetah-v3', 'HalfCheetah-v4', 'Hopper-v2', 'Hopper-v3', 'Hopper-v4', 'Swimmer-v2', 'Swimmer-v3', 'Swimmer-v4', 'Walker2d-v2', 'Walker2d-v3', 'Walker2d-v4', 'Ant-v2', 'Ant-v3', 'Ant-v4', 'Humanoid-v2', 'Humanoid-v3', 'Humanoid-v4', 'HumanoidStandup-v2', 'HumanoidStandup-v4'])\n"
     ]
    }
   ],
   "source": [
    "from gym import envs \n",
    "print(envs.registry.keys())"
   ]
  },
  {
   "cell_type": "markdown",
   "metadata": {},
   "source": [
    "Next lets render an environment, and perform random actions by sampling a random action from the action space, then the given action is perfomed within the environment.  \n",
    "Performing actions within the environment returns information about the action and environment including a terminated value, when this is True the model has been able to complete the environment goal."
   ]
  },
  {
   "cell_type": "code",
   "execution_count": 15,
   "metadata": {},
   "outputs": [
    {
     "name": "stderr",
     "output_type": "stream",
     "text": [
      "c:\\Users\\Sugar\\AppData\\Local\\Programs\\Python\\Python310\\lib\\site-packages\\gym\\envs\\classic_control\\continuous_mountain_car.py:193: UserWarning: \u001b[33mWARN: You are calling render method without specifying any render mode. You can specify the render_mode at initialization, e.g. gym(\"MountainCarContinuous-v0\", render_mode=\"rgb_array\")\u001b[0m\n",
      "  gym.logger.warn(\n"
     ]
    },
    {
     "name": "stdout",
     "output_type": "stream",
     "text": [
      "Finished after 3259 timesteps\n"
     ]
    }
   ],
   "source": [
    "import gym\n",
    "env = gym.make('MountainCarContinuous-v0')\n",
    "observation = env.reset()\n",
    "i = 0\n",
    "while True:\n",
    "    i += 1\n",
    "    env.render()\n",
    "    action = env.action_space.sample()\n",
    "    observation, reward, terminated, truncated, info = env.step(action)\n",
    "    if terminated:\n",
    "        print(\"Finished after {} timesteps\".format(i+1))\n",
    "        break"
   ]
  },
  {
   "cell_type": "code",
   "execution_count": 17,
   "metadata": {},
   "outputs": [
    {
     "name": "stdout",
     "output_type": "stream",
     "text": [
      "Box(-1.0, 1.0, (1,), float32)\n",
      "Box([-1.2  -0.07], [0.6  0.07], (2,), float32)\n"
     ]
    }
   ],
   "source": [
    "env = gym.make('MountainCarContinuous-v0')\n",
    "print(env.action_space) #[Output: ] Box(1,)\n",
    "print(env.observation_space) #[Output: ] Box(2,)"
   ]
  },
  {
   "cell_type": "markdown",
   "metadata": {},
   "source": [
    "The MountainCarContinuous-v0 has a single action space value, indicating the force applied in the x-axis (negative being left and positive being right),\n",
    "while the observation space shows two values, which to my knowledge indicate the position and velocity\n",
    "documentation on [this env](https://mgoulao.github.io/gym-docs/environments/classic_control/mountain_car_continuous/#observation-space)"
   ]
  },
  {
   "cell_type": "markdown",
   "metadata": {},
   "source": [
    "Next lets start working within the FrozenLake environment, for this additional environments had to be installed, which would have caused issues with box2d-py, but thankfully I have an older version of pip which still supports the legacy installer allowing me to install it via there automatically (pip=23.0.1, legacy installer no longer supported from pip=23.1)"
   ]
  },
  {
   "attachments": {
    "image.png": {
     "image/png": "[encoded data removed]"
    }
   },
   "cell_type": "markdown",
   "metadata": {},
   "source": [
    "Frozen lake is an environment which a 2d grid, on this grid there is a goal space, and some danger spaces that the actor has to navigate through.  \n",
    "![image.png](attachment:image.png)"
   ]
  },
  {
   "cell_type": "markdown",
   "metadata": {},
   "source": [
    "The first step of the model will be the Q-table, this table contains the actions for a given state whith the rewards that action is expected to give (this can also be seen as a representation for the quality of an action), this table will start off with random values, and through iterating over the environment, the Q-table can be refined based on the findings."
   ]
  },
  {
   "cell_type": "code",
   "execution_count": 45,
   "metadata": {},
   "outputs": [
    {
     "name": "stdout",
     "output_type": "stream",
     "text": [
      "Success rate (%) over 1000000 episodes: 0.0\n"
     ]
    }
   ],
   "source": [
    "import gym\n",
    "import numpy as np\n",
    "env = gym.make('FrozenLake-v1', render_mode='rgb_array', map_name='4x4') # Frozen lake of 4x4 size <- human renderer shows game visually in pop_up, but ruins performance\n",
    "Q = np.zeros([env.observation_space.n, env.action_space.n]) # env.observation.n, env.action_space.n gives number of states and action in env loaded\n",
    "# The table will look something like\n",
    "# | State | Action: Up | Action: Down | Action: Left | Action: Right |\n",
    "# |-------|------------|--------------|--------------|---------------|\n",
    "# |   0   |   0.2      |   0.1        |   0.3        |   0.5         |\n",
    "# | etc.                                                             |\n",
    "\n",
    "# Set the hyper parameters\n",
    "eta = .628 # Learning rate\n",
    "gma = .9 # discount factor, determining how far in the future the agent should consider\n",
    "iterations = 1000000 # amount of \"episodes, or iterations of the model\n",
    "\n",
    "total_rewards = []\n",
    "total_steps = []\n",
    "success_rate = []\n",
    "for i in range(iterations):\n",
    "    state = env.reset()[0] # Setup a fresh environment\n",
    "    episode_reward = 0\n",
    "    step = 0\n",
    "    while True: # Start stepping through the environment to obtain Q values to help improve the table\n",
    "        step += 1\n",
    "        # env.render()\n",
    "        # action = np.argmax(Q[s,:] + np.random.randn(1, env.action_space.n)*(1./(i+1))) # Choose a random action from the Q table\n",
    "        # A random action is obtained greedily, by first getting all actions within the current state, \n",
    "        # Obtain a list of random indexes within the possible range of actions <- this adds the exploration, so that the model does not get stuck in a local minimum of highest reward\n",
    "        # next this value is multiplied by a decreasing value based on episode count, thereby reducing the amount of exploration as the training continues\n",
    "        # lastyle, the greediest action is chosen from the adjusted list of actions based on highest reward \n",
    "        \n",
    "        # to make this more readable I have changed it to a conditional function instead\n",
    "        explorationChance = 1.0 / (i + 1)\n",
    "        if np.random.rand() < explorationChance:\n",
    "            action = env.action_space.sample() # Explore, by getting a random action\n",
    "        else:\n",
    "            action = np.argmax(Q[state, :]) # Exploit, by getting the best action\n",
    "\n",
    "        # Get new state & reward from environment\n",
    "        observation, reward, terminated, truncated, info = env.step(action) # perform the action\n",
    "        Q[state, action] = Q[state, action] + eta*(reward + gma*np.max(Q[observation,:]) - Q[state, action]) # Update Q-Table with the action result\n",
    "        # The new reward for given state and action is calculated by first, calculate the maxiumum expected reward from given action, taking into account future actions (based on gma)\n",
    "        # This maximum possible value is then subtracted from with the current value, to get the possible gain\n",
    "        # then the possible gain is added to the current value, reducing the possible gain first by eta\n",
    "        episode_reward += reward\n",
    "        state = observation # Update the state for next step\n",
    "        if terminated:\n",
    "            break # Environment was terminated, either by reaching the goal or falling in a hole\n",
    "\n",
    "    total_rewards.append(episode_reward)\n",
    "    total_steps.append(step)\n",
    "    success_rate.append(int(episode_reward > 0))\n",
    "    # env.render()\n",
    "env.close()\n",
    "print(f\"Success rate (%) over {iterations} episodes: {str(np.mean(success_rate) * 100)}\")"
   ]
  },
  {
   "cell_type": "markdown",
   "metadata": {},
   "source": [
    "Above I have set-up a Q-table learning model that will step through the frozen lake environment and update the Q-table based on the rewards gained, this model is very slow at learning however due to the agent only getting a reward when reaching the goal, which can take 100s if not 1000s of iterations before even reaching it once.  \n",
    "When training the model with 100.000 episodes, only sometimes would there be even a single successful episode, while with 1 million episodes it was still at 0 D:"
   ]
  },
  {
   "cell_type": "markdown",
   "metadata": {},
   "source": [
    "Below a plot of the rewards over the episodes"
   ]
  },
  {
   "cell_type": "code",
   "execution_count": 47,
   "metadata": {},
   "outputs": [
    {
     "data": {
      "image/png": "[encoded data removed]",
      "text/plain": [
       "<Figure size 432x288 with 1 Axes>"
      ]
     },
     "metadata": {
      "needs_background": "light"
     },
     "output_type": "display_data"
    }
   ],
   "source": [
    "import matplotlib.pyplot as plt\n",
    "\n",
    "average_reward_per_step = [reward / steps for reward, steps in zip(total_rewards, total_steps)]\n",
    "\n",
    "plt.plot(average_reward_per_step)\n",
    "plt.title(\"Average reward per step per episode\")\n",
    "\n",
    "plt.show()"
   ]
  },
  {
   "cell_type": "code",
   "execution_count": 48,
   "metadata": {},
   "outputs": [
    {
     "data": {
      "image/png": "[encoded data removed]",
      "text/plain": [
       "<Figure size 432x288 with 1 Axes>"
      ]
     },
     "metadata": {
      "needs_background": "light"
     },
     "output_type": "display_data"
    }
   ],
   "source": [
    "plt.plot(total_steps)\n",
    "plt.title(\"Amount of steps per episode\")\n",
    "\n",
    "plt.show()"
   ]
  },
  {
   "cell_type": "markdown",
   "metadata": {},
   "source": [
    "The agent is really just walking around for 100-200 steps, just to fall in a hole for a million times... (did I put this model in AI hell?)"
   ]
  },
  {
   "cell_type": "markdown",
   "metadata": {},
   "source": [
    "**Emeregency close of any running environment if code cell is interrupted, as otherwise it will kill the python kernel**"
   ]
  },
  {
   "cell_type": "code",
   "execution_count": 123,
   "metadata": {},
   "outputs": [
    {
     "ename": "",
     "evalue": "",
     "output_type": "error",
     "traceback": [
      "\u001b[1;31mThe Kernel crashed while executing code in the the current cell or a previous cell. Please review the code in the cell(s) to identify a possible cause of the failure. Click <a href='https://aka.ms/vscodeJupyterKernelCrash'>here</a> for more info. View Jupyter <a href='command:jupyter.viewOutput'>log</a> for further details."
     ]
    }
   ],
   "source": [
    "env.close()"
   ]
  },
  {
   "cell_type": "markdown",
   "metadata": {},
   "source": [
    "Next I will be looking at the [Keras ANN Q-learning example](https://towardsdatascience.com/reinforcement-learning-w-keras-openai-dqns-1eed3a5338c)"
   ]
  },
  {
   "cell_type": "code",
   "execution_count": 1,
   "metadata": {},
   "outputs": [],
   "source": [
    "import gym\n",
    "import numpy as np\n",
    "import random\n",
    "from keras.models import Sequential\n",
    "from keras.layers import Dense, Dropout\n",
    "from keras.optimizers import Adam\n",
    "from collections import deque"
   ]
  },
  {
   "cell_type": "markdown",
   "metadata": {},
   "source": [
    "First lets create a class that holds all of the required DQN definitions"
   ]
  },
  {
   "cell_type": "code",
   "execution_count": 20,
   "metadata": {},
   "outputs": [],
   "source": [
    "class DQN:\n",
    "    def __init__(self, env, gamma = 0.85, epsilon_decay = 0.995, eta = 0.005, tau = .125, history_batch_size = 32):\n",
    "        self.env = env # gym environment\n",
    "        self.memory = deque(maxlen=2000) # maximum memory of 2000, a random selection will be made of the memory when evaluating actions\n",
    "        \n",
    "        self.gamma = gamma # future discount factor\n",
    "        self.epsilon = 1.0 # exploration vs exploitation\n",
    "        self.epsilon_min = 0.01\n",
    "        self.epsilon_decay = epsilon_decay\n",
    "        self.eta = eta # learning rate\n",
    "        self.tau = tau # model weight adjustment rate for target model\n",
    "        self.history_batch_size = history_batch_size # Amount of history states to replay\n",
    "\n",
    "        self.model = self.create_model() # The model used for training and is updated rapidly\n",
    "        self.target_model = self.create_model() # The model t|hat updates less often, used to give actions to the current episode\n",
    "\n",
    "    def create_model(self):\n",
    "        # Create the ANN model that will handle the action choice \n",
    "        model = Sequential()\n",
    "        state_shape = self.env.observation_space.shape\n",
    "        model.add(Dense(state_shape[0], input_dim=state_shape[0], activation=\"relu\"))\n",
    "        model.add(Dense(512, activation=\"relu\"))\n",
    "        model.add(Dense(256, activation=\"relu\"))\n",
    "        model.add(Dense(self.env.action_space.n))\n",
    "        model.compile(loss=\"mean_squared_error\", optimizer=Adam(learning_rate=self.eta))\n",
    "        return model\n",
    "\n",
    "    def action(self, state):\n",
    "        # Choose an action to take from the more stable weighted model\n",
    "        self.epsilon *= self.epsilon_decay\n",
    "        self.epsilon = max(self.epsilon_min, self.epsilon)\n",
    "        if np.random.random() < self.epsilon:\n",
    "            return self.env.action_space.sample() # Exlore a random action\n",
    "        predicted_action = self.model.predict(np.array(state, dtype=np.float32), verbose=0)\n",
    "        return np.argmax(predicted_action[0]) # Greedily select action\n",
    "\n",
    "    def remember(self, state, action, reward, new_state, done):\n",
    "        # Add action results to the model memory\n",
    "        self.memory.append([np.array(state, dtype=np.float32), action, reward, new_state, done])\n",
    "\n",
    "    def replay(self):\n",
    "        # Attempt to improve weights of model by replaying the model's memory (this is scarily similar to what is presumed to happen during REM sleep...)\n",
    "        if len(self.memory) < self.history_batch_size: \n",
    "            return\n",
    "\n",
    "        samples = random.sample(self.memory, self.history_batch_size)\n",
    "        for sample in samples:\n",
    "            state, action, reward, new_state, done = sample\n",
    "            target = self.target_model.predict(np.array(state, dtype=np.float32), verbose=0)\n",
    "            if done:\n",
    "                target[0][action] = reward # If state is terminated, set the Q-value to be the reward value\n",
    "            else:\n",
    "                Q_future = max(self.target_model.predict(new_state, verbose=0)[0]) # Calculate the Q-value based on future steps\n",
    "                target[0][action] = reward + Q_future * self.gamma\n",
    "            self.model.fit(state, target, epochs=1, verbose=0)\n",
    "\n",
    "    def target_train(self):\n",
    "        # Update the weights of the action giving model,\n",
    "        # This model's weights are adjusted less often to reduce the amount of entropy experienced when having a model predict actions with rapidly changing weights\n",
    "        weights = self.model.get_weights()\n",
    "        target_weights = self.target_model.get_weights()\n",
    "        for i in range(len(target_weights)):\n",
    "            target_weights[i] = weights[i] * self.tau + target_weights[i] * (1 - self.tau)\n",
    "        self.target_model.set_weights(target_weights)\n",
    "    \n",
    "    def save(self, path):\n",
    "        self.target_model.save(f\"models/{path}/target_model/\")\n",
    "        self.model.save(f\"models/{path}/model/\")\n"
   ]
  },
  {
   "cell_type": "code",
   "execution_count": 5,
   "metadata": {},
   "outputs": [
    {
     "name": "stderr",
     "output_type": "stream",
     "text": [
      "2023-10-25 23:54:30.424642: I tensorflow/compiler/xla/stream_executor/cuda/cuda_gpu_executor.cc:880] could not open file to read NUMA node: /sys/bus/pci/devices/0000:0a:00.0/numa_node\n",
      "Your kernel may have been built without NUMA support.\n",
      "2023-10-25 23:54:30.449351: I tensorflow/compiler/xla/stream_executor/cuda/cuda_gpu_executor.cc:880] could not open file to read NUMA node: /sys/bus/pci/devices/0000:0a:00.0/numa_node\n",
      "Your kernel may have been built without NUMA support.\n",
      "2023-10-25 23:54:30.449392: I tensorflow/compiler/xla/stream_executor/cuda/cuda_gpu_executor.cc:880] could not open file to read NUMA node: /sys/bus/pci/devices/0000:0a:00.0/numa_node\n",
      "Your kernel may have been built without NUMA support.\n",
      "2023-10-25 23:54:30.451983: I tensorflow/compiler/xla/stream_executor/cuda/cuda_gpu_executor.cc:880] could not open file to read NUMA node: /sys/bus/pci/devices/0000:0a:00.0/numa_node\n",
      "Your kernel may have been built without NUMA support.\n",
      "2023-10-25 23:54:30.452025: I tensorflow/compiler/xla/stream_executor/cuda/cuda_gpu_executor.cc:880] could not open file to read NUMA node: /sys/bus/pci/devices/0000:0a:00.0/numa_node\n",
      "Your kernel may have been built without NUMA support.\n",
      "2023-10-25 23:54:30.452042: I tensorflow/compiler/xla/stream_executor/cuda/cuda_gpu_executor.cc:880] could not open file to read NUMA node: /sys/bus/pci/devices/0000:0a:00.0/numa_node\n",
      "Your kernel may have been built without NUMA support.\n",
      "2023-10-25 23:54:30.616612: I tensorflow/compiler/xla/stream_executor/cuda/cuda_gpu_executor.cc:880] could not open file to read NUMA node: /sys/bus/pci/devices/0000:0a:00.0/numa_node\n",
      "Your kernel may have been built without NUMA support.\n",
      "2023-10-25 23:54:30.616659: I tensorflow/compiler/xla/stream_executor/cuda/cuda_gpu_executor.cc:880] could not open file to read NUMA node: /sys/bus/pci/devices/0000:0a:00.0/numa_node\n",
      "Your kernel may have been built without NUMA support.\n",
      "2023-10-25 23:54:30.616666: I tensorflow/core/common_runtime/gpu/gpu_device.cc:1977] Could not identify NUMA node of platform GPU id 0, defaulting to 0.  Your kernel may not have been built with NUMA support.\n",
      "2023-10-25 23:54:30.616693: I tensorflow/compiler/xla/stream_executor/cuda/cuda_gpu_executor.cc:880] could not open file to read NUMA node: /sys/bus/pci/devices/0000:0a:00.0/numa_node\n",
      "Your kernel may have been built without NUMA support.\n",
      "2023-10-25 23:54:30.616710: I tensorflow/core/common_runtime/gpu/gpu_device.cc:1886] Created device /job:localhost/replica:0/task:0/device:GPU:0 with 6731 MB memory:  -> device: 0, name: NVIDIA GeForce GTX 1070, pci bus id: 0000:0a:00.0, compute capability: 6.1\n",
      "/home/thomas/.local/lib/python3.10/site-packages/gym/utils/passive_env_checker.py:233: DeprecationWarning: `np.bool8` is a deprecated alias for `np.bool_`.  (Deprecated NumPy 1.24)\n",
      "  if not isinstance(terminated, (bool, np.bool8)):\n"
     ]
    },
    {
     "name": "stdout",
     "output_type": "stream",
     "text": [
      "episode: 0\n"
     ]
    },
    {
     "name": "stderr",
     "output_type": "stream",
     "text": [
      "2023-10-25 23:54:31.612093: I tensorflow/tsl/platform/default/subprocess.cc:304] Start cannot spawn child process: No such file or directory\n",
      "2023-10-25 23:54:32.751144: I tensorflow/compiler/xla/service/service.cc:168] XLA service 0x7fa1a0005fe0 initialized for platform CUDA (this does not guarantee that XLA will be used). Devices:\n",
      "2023-10-25 23:54:32.751192: I tensorflow/compiler/xla/service/service.cc:176]   StreamExecutor device (0): NVIDIA GeForce GTX 1070, Compute Capability 6.1\n",
      "2023-10-25 23:54:32.758386: I tensorflow/compiler/mlir/tensorflow/utils/dump_mlir_util.cc:269] disabling MLIR crash reproducer, set env var `MLIR_CRASH_REPRODUCER_DIRECTORY` to enable.\n",
      "2023-10-25 23:54:32.783397: I tensorflow/compiler/xla/stream_executor/cuda/cuda_dnn.cc:442] Loaded cuDNN version 8700\n",
      "2023-10-25 23:54:32.879733: I ./tensorflow/compiler/jit/device_compiler.h:186] Compiled cluster using XLA!  This line is logged at most once for the lifetime of the process.\n"
     ]
    },
    {
     "name": "stdout",
     "output_type": "stream",
     "text": [
      "episode: 1\n",
      "episode: 2\n",
      "episode: 3\n",
      "episode: 4\n"
     ]
    }
   ],
   "source": [
    "env = gym.make(\"MountainCar-v0\")\n",
    "episodes = 5\n",
    "max_steps = 100\n",
    "\n",
    "total_steps = []\n",
    "\n",
    "agent = DQN(env=env)\n",
    "for episode in range(episodes):\n",
    "    print(f\"episode: {episode}\")\n",
    "    cur_state = [list(env.reset()[0])] # Get initial state of the reset environment\n",
    "    first_step = True\n",
    "    for step in range(max_steps):\n",
    "        action = agent.action(cur_state) # Get action for current state\n",
    "        new_state, reward, terminated, truncated, debug = env.step(action) # Perform the action\n",
    "        new_state = new_state.reshape(1,2)\n",
    "            \n",
    "        agent.remember(cur_state, action, reward, new_state, terminated) # Store the performed action for given state and result in models memory\n",
    "        \n",
    "        agent.replay() # replay the memory of the model to adjust Q-table (weights) <- this kills performance\n",
    "        agent.target_train() # adjust the target Q-table based on difference and learning rate of the two model's weights\n",
    "\n",
    "        cur_state = new_state\n",
    "        if terminated:\n",
    "            total_steps.append(step)\n",
    "            break # environment terminated"
   ]
  },
  {
   "cell_type": "markdown",
   "metadata": {},
   "source": [
    "Lets implement GPU support for tensorflow, because the constant training of the ANN is making the model extremely slow (15 minutes+ per episode)"
   ]
  },
  {
   "cell_type": "code",
   "execution_count": 1,
   "metadata": {},
   "outputs": [
    {
     "data": {
      "text/plain": [
       "'2.14.0'"
      ]
     },
     "execution_count": 1,
     "metadata": {},
     "output_type": "execute_result"
    }
   ],
   "source": [
    "import tensorflow as tf\n",
    "tf.__version__"
   ]
  },
  {
   "cell_type": "code",
   "execution_count": 2,
   "metadata": {},
   "outputs": [
    {
     "data": {
      "text/plain": [
       "[]"
      ]
     },
     "execution_count": 2,
     "metadata": {},
     "output_type": "execute_result"
    }
   ],
   "source": [
    "tf.config.list_physical_devices('GPU')"
   ]
  },
  {
   "cell_type": "markdown",
   "metadata": {},
   "source": [
    "As you can see, right now I have v 2.14.0 of tensorflow, and there are no avaible GPUs, while I do have a GTX 1070 in this PC,  \n",
    "the GTX 1070 (unlike my GTX 1650 in my laptop D:) is CUDA-Enabled according to the [NVidia support list](https://developer.nvidia.com/cuda-gpus), also make sure the newest drivers for the given graphics card are installed (I have already done this, as it is generally best practise to keep them up-to-date).  \n",
    "   \n",
    "Next, install the [CUDA Toolkit](https://developer.nvidia.com/cuda-toolkit-archive) in accordance to the version [supported by tensorflow](https://www.tensorflow.org/install/source) which in this case is 11.8,  \n",
    "   \n",
    "and lastly install the [cuDNN SDK](https://developer.nvidia.com/cudnn) which will extend the CUDA Toolkit, once again make sure it is the version that the installed tensorflow version supports. (After downloading the SDK, move the files into the toolkit directory which after some looking around turned out to be here: C:\\Program Files\\NVIDIA GPU Computing Toolkit\\CUDA\\v11.8)."
   ]
  },
  {
   "cell_type": "markdown",
   "metadata": {},
   "source": [
    "Now that the windows GPU side is done, lets set-up WSL2, as TF>2.18 no longer has native windows support >:(  \n",
    "First step will be to install [WSL2](https://learn.microsoft.com/en-us/windows/wsl/install) thankfully I have already done that.  \n",
    "  \n",
    "Next setup GPU support in WSL2, this can best be done via the [NVidia getting started guide](https://docs.nvidia.com/cuda/wsl-user-guide/index.html#getting-started-with-cuda-on-wsl-2), via this guide the CUDA toolkit will also be installed on the WSL2 client for the specific GPU.  \n",
    "(NOTE: Make sure to install cuda toolkit version has mentioned before (11.8) as the guide might not indicate the correct version!!!)\n",
    "  \n",
    "After this, pip and tensorflow can be installed (make sure that when you try to access the wsl, you have the correct distro selected as for me it kept giving errors due to my Docker instance being set as the default)."
   ]
  },
  {
   "cell_type": "code",
   "execution_count": 1,
   "metadata": {},
   "outputs": [
    {
     "name": "stderr",
     "output_type": "stream",
     "text": [
      "2023-10-25 23:23:42.732993: E tensorflow/compiler/xla/stream_executor/cuda/cuda_dnn.cc:9342] Unable to register cuDNN factory: Attempting to register factory for plugin cuDNN when one has already been registered\n",
      "2023-10-25 23:23:42.733047: E tensorflow/compiler/xla/stream_executor/cuda/cuda_fft.cc:609] Unable to register cuFFT factory: Attempting to register factory for plugin cuFFT when one has already been registered\n",
      "2023-10-25 23:23:42.733068: E tensorflow/compiler/xla/stream_executor/cuda/cuda_blas.cc:1518] Unable to register cuBLAS factory: Attempting to register factory for plugin cuBLAS when one has already been registered\n",
      "2023-10-25 23:23:42.738794: I tensorflow/core/platform/cpu_feature_guard.cc:182] This TensorFlow binary is optimized to use available CPU instructions in performance-critical operations.\n",
      "To enable the following instructions: AVX2 FMA, in other operations, rebuild TensorFlow with the appropriate compiler flags.\n",
      "2023-10-25 23:23:44.494920: I tensorflow/compiler/xla/stream_executor/cuda/cuda_gpu_executor.cc:880] could not open file to read NUMA node: /sys/bus/pci/devices/0000:0a:00.0/numa_node\n",
      "Your kernel may have been built without NUMA support.\n",
      "2023-10-25 23:23:44.498328: I tensorflow/compiler/xla/stream_executor/cuda/cuda_gpu_executor.cc:880] could not open file to read NUMA node: /sys/bus/pci/devices/0000:0a:00.0/numa_node\n",
      "Your kernel may have been built without NUMA support.\n",
      "2023-10-25 23:23:44.498387: I tensorflow/compiler/xla/stream_executor/cuda/cuda_gpu_executor.cc:880] could not open file to read NUMA node: /sys/bus/pci/devices/0000:0a:00.0/numa_node\n",
      "Your kernel may have been built without NUMA support.\n"
     ]
    },
    {
     "data": {
      "text/plain": [
       "[PhysicalDevice(name='/physical_device:GPU:0', device_type='GPU')]"
      ]
     },
     "execution_count": 1,
     "metadata": {},
     "output_type": "execute_result"
    }
   ],
   "source": [
    "import tensorflow as tf\n",
    "tf.config.list_physical_devices('GPU')"
   ]
  },
  {
   "cell_type": "markdown",
   "metadata": {},
   "source": [
    "So 'Technically' yes, I am now running the notebook through WSL2 with TF able the access my GPU, however it throws a lot of warnings both in just this function example to check if it can find my GPU, and even more when modelling (most of these warnings seem to be about the kernel not supporting NUMA, which *should* be fine according to some discussion threads out there...)."
   ]
  },
  {
   "cell_type": "markdown",
   "metadata": {},
   "source": [
    "Sadly, my GPU does not seem to help much with the extremely intesive ANN RL model attempted with Mountain car, as episodes still take significantly too long"
   ]
  },
  {
   "cell_type": "markdown",
   "metadata": {},
   "source": [
    "However, I would still like to do a third attempt, now that I have gained a much clearer understanding of RL and gym and have the power of a GTX 1070 in the palm of my hand.  \n",
    "So, lets try out the LunarLander environment, this environment seems to be gym's favorite as it is referenced and used as an example everywhere.  \n",
    "To get box2d installed (the kit that contains the LunarLander environment), I had to first install swig on my WSL2 kernel."
   ]
  },
  {
   "cell_type": "markdown",
   "metadata": {},
   "source": [
    "First I will try out a simple completely random non-learning RL model in the LunarLander environment to see how it all works"
   ]
  },
  {
   "cell_type": "code",
   "execution_count": 5,
   "metadata": {},
   "outputs": [
    {
     "name": "stderr",
     "output_type": "stream",
     "text": [
      "/home/thomas/.local/lib/python3.10/site-packages/gym/utils/passive_env_checker.py:233: DeprecationWarning: `np.bool8` is a deprecated alias for `np.bool_`.  (Deprecated NumPy 1.24)\n",
      "  if not isinstance(terminated, (bool, np.bool8)):\n"
     ]
    }
   ],
   "source": [
    "import gym\n",
    "try:\n",
    "   env = gym.make(\"LunarLander-v2\", render_mode=\"human\")\n",
    "   observation, info = env.reset(seed=42)\n",
    "   for _ in range(1000):\n",
    "      action = env.action_space.sample()\n",
    "      observation, reward, terminated, truncated, info = env.step(action)\n",
    "\n",
    "      if terminated or truncated:\n",
    "         observation, info = env.reset()\n",
    "finally:\n",
    "   env.close()"
   ]
  },
  {
   "cell_type": "markdown",
   "metadata": {},
   "source": [
    "The LunarLander environment has four actions within it's action space:\n",
    "- do nothing\n",
    "- fire left (go right)\n",
    "- fire right (go left)\n",
    "- fire primary (upwards)\n",
    "\n",
    "And 8 features in observation space:\n",
    "- x position\n",
    "- y position\n",
    "- x velocity\n",
    "- y velocity\n",
    "- angle (rotation)\n",
    "- anglular velocity (rotation speed)\n",
    "- is_left_leg_on_ground\n",
    "- is_right_leg_on_ground\n",
    "\n",
    "If the lander crashes it will lose 100 points, alongside a -0.3 and -0.03 points per frame the main or side engine is firing respectively.  \n",
    "If the lander lands on the ground it gets 100 points with a bonus 10 points for each leg on the ground,  \n",
    "the [documentation](https://www.gymlibrary.dev/environments/box2d/lunar_lander/#rewards) on the rewards is worded quite confusingly but I assume extra points are given if landing within the landing zone, or the landing on the ground might only count when it is in the zone."
   ]
  },
  {
   "cell_type": "markdown",
   "metadata": {},
   "source": [
    "The observation space for the LunarLander are continuous, this means a simple Q-table as done with FrozenLake will not inherintly work (infinite possible states), this could be solved by undersampling the continuous values (rounding to a whole value for example for a given range), however this is kind of a work around and there are much smarter solutions out there such as using a deep learning model, just as was done for the MountainCar "
   ]
  },
  {
   "cell_type": "markdown",
   "metadata": {},
   "source": [
    "To help me get a better understanding of a possible implementation of thise (better than the mountain car), I want to credit [this amazing project](https://xusophia.github.io/DataSciFinalProj/), which goes fairly deep into many different possible solutions, with even more advanced research papers attached."
   ]
  },
  {
   "cell_type": "code",
   "execution_count": 4,
   "metadata": {},
   "outputs": [
    {
     "name": "stdout",
     "output_type": "stream",
     "text": [
      "episode: 0\n",
      "episode: 1\n",
      "episode: 2\n",
      "episode: 3\n",
      "episode: 4\n",
      "episode: 5\n",
      "episode: 6\n",
      "episode: 7\n",
      "episode: 8\n",
      "episode: 9\n",
      "episode: 10\n",
      "episode: 11\n",
      "episode: 12\n",
      "episode: 13\n",
      "episode: 14\n",
      "episode: 15\n",
      "episode: 16\n",
      "episode: 17\n",
      "episode: 18\n",
      "episode: 19\n",
      "episode: 20\n",
      "episode: 21\n",
      "episode: 22\n",
      "episode: 23\n",
      "episode: 24\n",
      "episode: 25\n",
      "episode: 26\n",
      "episode: 27\n",
      "episode: 28\n",
      "episode: 29\n",
      "episode: 30\n",
      "episode: 31\n",
      "episode: 32\n",
      "episode: 33\n",
      "episode: 34\n",
      "episode: 35\n",
      "episode: 36\n",
      "episode: 37\n",
      "episode: 38\n",
      "episode: 39\n",
      "episode: 40\n",
      "episode: 41\n",
      "episode: 42\n",
      "episode: 43\n",
      "episode: 44\n",
      "episode: 45\n",
      "episode: 46\n",
      "episode: 47\n",
      "episode: 48\n",
      "episode: 49\n",
      "episode: 50\n",
      "episode: 51\n",
      "episode: 52\n",
      "episode: 53\n",
      "episode: 54\n",
      "episode: 55\n",
      "episode: 56\n",
      "episode: 57\n",
      "episode: 58\n",
      "episode: 59\n",
      "episode: 60\n",
      "episode: 61\n",
      "episode: 62\n",
      "episode: 63\n",
      "episode: 64\n",
      "episode: 65\n",
      "episode: 66\n",
      "episode: 67\n",
      "episode: 68\n",
      "episode: 69\n",
      "episode: 70\n",
      "episode: 71\n",
      "episode: 72\n",
      "episode: 73\n",
      "episode: 74\n",
      "episode: 75\n",
      "episode: 76\n",
      "episode: 77\n",
      "episode: 78\n",
      "episode: 79\n",
      "episode: 80\n",
      "episode: 81\n",
      "episode: 82\n",
      "episode: 83\n",
      "episode: 84\n",
      "episode: 85\n",
      "episode: 86\n",
      "episode: 87\n",
      "episode: 88\n",
      "episode: 89\n",
      "episode: 90\n",
      "episode: 91\n",
      "episode: 92\n",
      "episode: 93\n",
      "episode: 94\n",
      "episode: 95\n",
      "episode: 96\n",
      "episode: 97\n",
      "episode: 98\n",
      "episode: 99\n",
      "episode: 100\n",
      "episode: 101\n",
      "episode: 102\n",
      "episode: 103\n",
      "episode: 104\n",
      "episode: 105\n",
      "episode: 106\n",
      "episode: 107\n",
      "episode: 108\n",
      "episode: 109\n",
      "episode: 110\n",
      "episode: 111\n",
      "episode: 112\n",
      "episode: 113\n",
      "episode: 114\n",
      "episode: 115\n",
      "episode: 116\n",
      "episode: 117\n",
      "episode: 118\n",
      "episode: 119\n",
      "episode: 120\n",
      "episode: 121\n",
      "episode: 122\n",
      "episode: 123\n",
      "episode: 124\n",
      "episode: 125\n",
      "episode: 126\n",
      "episode: 127\n",
      "episode: 128\n",
      "episode: 129\n",
      "episode: 130\n",
      "episode: 131\n",
      "episode: 132\n",
      "episode: 133\n",
      "episode: 134\n",
      "episode: 135\n",
      "episode: 136\n",
      "episode: 137\n",
      "episode: 138\n",
      "episode: 139\n",
      "episode: 140\n",
      "episode: 141\n",
      "episode: 142\n",
      "episode: 143\n",
      "episode: 144\n",
      "episode: 145\n",
      "episode: 146\n",
      "episode: 147\n",
      "episode: 148\n",
      "episode: 149\n",
      "episode: 150\n",
      "episode: 151\n",
      "episode: 152\n",
      "episode: 153\n",
      "episode: 154\n",
      "episode: 155\n",
      "episode: 156\n",
      "episode: 157\n",
      "episode: 158\n",
      "episode: 159\n",
      "episode: 160\n",
      "episode: 161\n",
      "episode: 162\n",
      "episode: 163\n",
      "episode: 164\n",
      "episode: 165\n",
      "episode: 166\n",
      "episode: 167\n",
      "episode: 168\n",
      "episode: 169\n",
      "episode: 170\n",
      "episode: 171\n",
      "episode: 172\n",
      "episode: 173\n",
      "episode: 174\n",
      "episode: 175\n",
      "episode: 176\n",
      "episode: 177\n",
      "episode: 178\n",
      "episode: 179\n",
      "episode: 180\n",
      "episode: 181\n",
      "episode: 182\n",
      "episode: 183\n",
      "episode: 184\n",
      "episode: 185\n",
      "episode: 186\n",
      "episode: 187\n",
      "episode: 188\n",
      "episode: 189\n",
      "episode: 190\n",
      "episode: 191\n",
      "episode: 192\n",
      "episode: 193\n",
      "episode: 194\n",
      "episode: 195\n",
      "episode: 196\n",
      "episode: 197\n",
      "episode: 198\n",
      "episode: 199\n",
      "episode: 200\n",
      "episode: 201\n",
      "episode: 202\n",
      "episode: 203\n",
      "episode: 204\n",
      "episode: 205\n",
      "episode: 206\n",
      "episode: 207\n",
      "episode: 208\n",
      "episode: 209\n",
      "episode: 210\n",
      "episode: 211\n",
      "episode: 212\n",
      "episode: 213\n",
      "episode: 214\n",
      "episode: 215\n",
      "episode: 216\n",
      "episode: 217\n",
      "episode: 218\n",
      "episode: 219\n",
      "episode: 220\n",
      "episode: 221\n",
      "episode: 222\n",
      "episode: 223\n",
      "episode: 224\n",
      "episode: 225\n",
      "episode: 226\n",
      "episode: 227\n",
      "episode: 228\n",
      "episode: 229\n",
      "episode: 230\n",
      "episode: 231\n",
      "episode: 232\n",
      "episode: 233\n",
      "episode: 234\n",
      "episode: 235\n",
      "episode: 236\n",
      "episode: 237\n",
      "episode: 238\n",
      "episode: 239\n",
      "episode: 240\n",
      "episode: 241\n",
      "episode: 242\n",
      "episode: 243\n",
      "episode: 244\n",
      "episode: 245\n",
      "episode: 246\n",
      "episode: 247\n",
      "episode: 248\n",
      "episode: 249\n",
      "episode: 250\n",
      "episode: 251\n",
      "episode: 252\n",
      "episode: 253\n",
      "episode: 254\n",
      "episode: 255\n",
      "episode: 256\n",
      "episode: 257\n",
      "episode: 258\n",
      "episode: 259\n",
      "episode: 260\n",
      "episode: 261\n",
      "episode: 262\n",
      "episode: 263\n",
      "episode: 264\n",
      "episode: 265\n",
      "episode: 266\n",
      "episode: 267\n",
      "episode: 268\n",
      "episode: 269\n",
      "episode: 270\n",
      "episode: 271\n",
      "episode: 272\n",
      "episode: 273\n",
      "episode: 274\n",
      "episode: 275\n",
      "episode: 276\n",
      "episode: 277\n",
      "episode: 278\n",
      "episode: 279\n",
      "episode: 280\n",
      "episode: 281\n",
      "episode: 282\n",
      "episode: 283\n",
      "episode: 284\n",
      "episode: 285\n",
      "episode: 286\n",
      "episode: 287\n",
      "episode: 288\n",
      "episode: 289\n",
      "episode: 290\n",
      "episode: 291\n",
      "episode: 292\n",
      "episode: 293\n",
      "episode: 294\n",
      "episode: 295\n",
      "episode: 296\n",
      "episode: 297\n",
      "episode: 298\n",
      "episode: 299\n",
      "episode: 300\n",
      "episode: 301\n",
      "episode: 302\n",
      "episode: 303\n",
      "episode: 304\n",
      "episode: 305\n",
      "episode: 306\n",
      "episode: 307\n",
      "episode: 308\n",
      "episode: 309\n",
      "episode: 310\n",
      "episode: 311\n",
      "episode: 312\n",
      "episode: 313\n",
      "episode: 314\n",
      "episode: 315\n",
      "episode: 316\n",
      "episode: 317\n",
      "episode: 318\n",
      "episode: 319\n",
      "episode: 320\n",
      "episode: 321\n",
      "episode: 322\n",
      "episode: 323\n",
      "episode: 324\n",
      "episode: 325\n",
      "episode: 326\n",
      "episode: 327\n",
      "episode: 328\n",
      "episode: 329\n",
      "episode: 330\n",
      "episode: 331\n",
      "episode: 332\n",
      "episode: 333\n",
      "episode: 334\n",
      "episode: 335\n",
      "episode: 336\n",
      "episode: 337\n",
      "episode: 338\n",
      "episode: 339\n",
      "episode: 340\n",
      "episode: 341\n",
      "episode: 342\n",
      "episode: 343\n",
      "episode: 344\n",
      "episode: 345\n",
      "episode: 346\n",
      "episode: 347\n",
      "episode: 348\n",
      "episode: 349\n",
      "episode: 350\n",
      "episode: 351\n",
      "episode: 352\n",
      "episode: 353\n",
      "episode: 354\n",
      "episode: 355\n",
      "episode: 356\n",
      "episode: 357\n",
      "episode: 358\n",
      "episode: 359\n",
      "episode: 360\n",
      "episode: 361\n",
      "episode: 362\n",
      "episode: 363\n",
      "episode: 364\n",
      "episode: 365\n",
      "episode: 366\n",
      "episode: 367\n",
      "episode: 368\n",
      "episode: 369\n",
      "episode: 370\n",
      "episode: 371\n",
      "episode: 372\n",
      "episode: 373\n",
      "episode: 374\n",
      "episode: 375\n",
      "episode: 376\n",
      "episode: 377\n",
      "episode: 378\n",
      "episode: 379\n",
      "episode: 380\n",
      "episode: 381\n",
      "episode: 382\n",
      "episode: 383\n",
      "episode: 384\n",
      "episode: 385\n",
      "episode: 386\n",
      "episode: 387\n",
      "episode: 388\n",
      "episode: 389\n",
      "episode: 390\n",
      "episode: 391\n",
      "episode: 392\n",
      "episode: 393\n",
      "episode: 394\n",
      "episode: 395\n",
      "episode: 396\n",
      "episode: 397\n",
      "episode: 398\n",
      "episode: 399\n",
      "episode: 400\n",
      "episode: 401\n",
      "episode: 402\n",
      "episode: 403\n",
      "episode: 404\n",
      "episode: 405\n",
      "episode: 406\n",
      "episode: 407\n",
      "episode: 408\n",
      "episode: 409\n",
      "episode: 410\n",
      "episode: 411\n",
      "episode: 412\n",
      "episode: 413\n",
      "episode: 414\n",
      "episode: 415\n",
      "episode: 416\n",
      "episode: 417\n",
      "episode: 418\n",
      "episode: 419\n",
      "episode: 420\n",
      "episode: 421\n",
      "episode: 422\n",
      "episode: 423\n",
      "episode: 424\n",
      "episode: 425\n",
      "episode: 426\n",
      "episode: 427\n",
      "episode: 428\n",
      "episode: 429\n",
      "episode: 430\n",
      "episode: 431\n",
      "episode: 432\n",
      "episode: 433\n",
      "episode: 434\n",
      "episode: 435\n",
      "episode: 436\n",
      "episode: 437\n",
      "episode: 438\n",
      "episode: 439\n",
      "episode: 440\n",
      "episode: 441\n",
      "episode: 442\n",
      "episode: 443\n",
      "episode: 444\n",
      "episode: 445\n",
      "episode: 446\n",
      "episode: 447\n",
      "episode: 448\n",
      "episode: 449\n",
      "episode: 450\n",
      "episode: 451\n",
      "episode: 452\n",
      "episode: 453\n",
      "episode: 454\n",
      "episode: 455\n",
      "episode: 456\n",
      "episode: 457\n",
      "episode: 458\n",
      "episode: 459\n",
      "episode: 460\n",
      "episode: 461\n",
      "episode: 462\n",
      "episode: 463\n",
      "episode: 464\n",
      "episode: 465\n",
      "episode: 466\n",
      "episode: 467\n",
      "episode: 468\n",
      "episode: 469\n",
      "episode: 470\n",
      "episode: 471\n",
      "episode: 472\n",
      "episode: 473\n",
      "episode: 474\n",
      "episode: 475\n",
      "episode: 476\n",
      "episode: 477\n",
      "episode: 478\n",
      "episode: 479\n",
      "episode: 480\n",
      "episode: 481\n",
      "episode: 482\n",
      "episode: 483\n",
      "episode: 484\n",
      "episode: 485\n",
      "episode: 486\n",
      "episode: 487\n",
      "episode: 488\n",
      "episode: 489\n",
      "episode: 490\n",
      "episode: 491\n",
      "episode: 492\n",
      "episode: 493\n",
      "episode: 494\n",
      "episode: 495\n",
      "episode: 496\n",
      "episode: 497\n",
      "episode: 498\n",
      "episode: 499\n",
      "INFO:tensorflow:Assets written to: models/target_model/assets\n"
     ]
    },
    {
     "name": "stderr",
     "output_type": "stream",
     "text": [
      "INFO:tensorflow:Assets written to: models/target_model/assets\n"
     ]
    },
    {
     "name": "stdout",
     "output_type": "stream",
     "text": [
      "INFO:tensorflow:Assets written to: models/model/assets\n"
     ]
    },
    {
     "name": "stderr",
     "output_type": "stream",
     "text": [
      "INFO:tensorflow:Assets written to: models/model/assets\n"
     ]
    }
   ],
   "source": [
    "import gym\n",
    "import numpy as np\n",
    "env = gym.make(\"LunarLander-v2\", render_mode=\"human\")\n",
    "episodes = 500\n",
    "max_steps = 200\n",
    "\n",
    "total_steps = []\n",
    "total_rewards = []\n",
    "\n",
    "try:\n",
    "    agent = DQN(env=env)\n",
    "    for episode in range(episodes):\n",
    "        print(f\"episode: {episode}\")\n",
    "        state, info = env.reset() # Get initial state of the reset environment\n",
    "        state = state.reshape(1, 8)\n",
    "        steps_taken = 0\n",
    "        reward_score = 0\n",
    "        for step in range(max_steps):\n",
    "            steps_taken += 1\n",
    "            action = agent.action(state) # Get action for current state\n",
    "            new_state, reward, terminated, truncated, debug = env.step(action) # Perform the action\n",
    "            new_state = new_state.reshape(1,8)\n",
    "\n",
    "            reward_score += reward\n",
    "\n",
    "            if terminated or truncated: # Check if action caused environment to end\n",
    "                total_steps.append(step)\n",
    "                break # environment terminated so current episode should finish\n",
    "                \n",
    "            agent.remember(state, action, reward, new_state, terminated) # Store the performed action for given state and result in models memory\n",
    "\n",
    "            state = new_state # Set new state as current state (go to the next frame)\n",
    "        total_steps.append(steps_taken)\n",
    "        total_rewards.append(reward_score)\n",
    "            \n",
    "        agent.target_train() # adjust the target Q-table based on difference and learning rate of the two model's weights\n",
    "        agent.replay() # replay the memory of the model to adjust Q-table (weights) <- this kills performance\n",
    "    agent.save() # Store model for reuse\n",
    "finally:\n",
    "    env.close()"
   ]
  },
  {
   "cell_type": "code",
   "execution_count": 7,
   "metadata": {},
   "outputs": [
    {
     "data": {
      "image/png": "[encoded data removed]",
      "text/plain": [
       "<Figure size 432x288 with 1 Axes>"
      ]
     },
     "metadata": {
      "needs_background": "light"
     },
     "output_type": "display_data"
    }
   ],
   "source": [
    "import matplotlib.pyplot as plt\n",
    "plt.plot(total_steps)\n",
    "plt.title(\"Amount of steps per episode\")\n",
    "\n",
    "plt.show()"
   ]
  },
  {
   "cell_type": "code",
   "execution_count": 8,
   "metadata": {},
   "outputs": [
    {
     "data": {
      "image/png": "[encoded data removed]",
      "text/plain": [
       "<Figure size 432x288 with 1 Axes>"
      ]
     },
     "metadata": {
      "needs_background": "light"
     },
     "output_type": "display_data"
    }
   ],
   "source": [
    "plt.plot(total_rewards)\n",
    "plt.title(\"Amount of reward per episode\")\n",
    "\n",
    "plt.show()"
   ]
  },
  {
   "cell_type": "markdown",
   "metadata": {},
   "source": [
    "In the model above, I am using two models that should learn from eachother, thereby avoiding possible issues that could occur while using a single model, such as overestimating reward actions.\n",
    "In this current attempt, I am only updating the model after the episode has finished, thereby it is only learning between episodes (as is often the case in more simple systems), I have tried looking around to find out the best way of implementing this kind of model, and it seems to most people either update the model every step, or every couple steps, this is however extremely computationally intesive and the reason why my previous model become untrainable for me.  \n",
    "\n",
    "Running this model gave very interesting results however, as the model actually did seem to learn, but not what is intended (this knowledge is obtained from looking at the results and observing the model during training as human vs rgb rendering did not seem to have a big performance difference). The model seems to have learned how to keep the lander upright (no rotation) as this avoid crashing and thereby loosing a bunch of points, but did not seem to learn to actually land to gain the extra points.  \n",
    "This behavior is a clear example of being more exploitive than explorative and could be adjusted for by increasing the epsilon_decay value, thereby slowing the rate of explotation and performing more random actions."
   ]
  },
  {
   "cell_type": "markdown",
   "metadata": {},
   "source": [
    "In the next part I will be training a fresh model again as the previous model does not show any significant improvement past the first ~50 episodes, where I will be messing around with the hyperparameters to see how that effects the score.  \n",
    "NOTE: 200 reward is the target max possible reward"
   ]
  },
  {
   "cell_type": "code",
   "execution_count": 23,
   "metadata": {},
   "outputs": [],
   "source": [
    "import gym\n",
    "import numpy as np\n",
    "def LunarLander(decay_rate, episodes, max_steps):\n",
    "    env = gym.make(\"LunarLander-v2\")\n",
    "\n",
    "    total_steps = []\n",
    "    total_rewards = []\n",
    "    info_results = [[]]\n",
    "\n",
    "    try:\n",
    "        agent = DQN(env=env, epsilon_decay=decay_rate)\n",
    "        for episode in range(episodes):\n",
    "            print(f\"episode: {episode}\")\n",
    "            state, info = env.reset() # Get initial state of the reset environment\n",
    "            state = state.reshape(1, 8)\n",
    "            steps_taken = 0\n",
    "            reward_score = 0\n",
    "            for step in range(max_steps):\n",
    "                steps_taken += 1\n",
    "                action = agent.action(state) # Get action for current state\n",
    "                new_state, reward, terminated, truncated, debug = env.step(action) # Perform the action\n",
    "                new_state = new_state.reshape(1,8)\n",
    "\n",
    "                reward_score += reward\n",
    "\n",
    "                info_results[episode].append(debug) # add the debug info to look at later\n",
    "                if terminated or truncated: # Check if action caused environment to end\n",
    "                    break # environment terminated so current episode should finish\n",
    "                    \n",
    "                agent.remember(state, action, reward, new_state, terminated) # Store the performed action for given state and result in models memory\n",
    "\n",
    "                state = new_state # Set new state as current state (go to the next frame)\n",
    "            total_steps.append(steps_taken)\n",
    "            total_rewards.append(reward_score)\n",
    "                \n",
    "            agent.target_train() # adjust the target Q-table based on difference and learning rate of the two model's weights\n",
    "            agent.replay() # replay the memory of the model to adjust Q-table (weights) <- this kills performance\n",
    "        agent.save(\"artifacts\") # Store model for reuse\n",
    "    finally:\n",
    "        print(\"finished\")\n",
    "        env.close()\n",
    "        return total_steps, total_rewards, info_results"
   ]
  },
  {
   "cell_type": "code",
   "execution_count": 24,
   "metadata": {},
   "outputs": [
    {
     "name": "stdout",
     "output_type": "stream",
     "text": [
      "episode: 0\n",
      "episode: 1\n",
      "episode: 2\n",
      "episode: 3\n",
      "episode: 4\n",
      "episode: 5\n",
      "episode: 6\n",
      "episode: 7\n",
      "episode: 8\n",
      "episode: 9\n",
      "episode: 10\n",
      "episode: 11\n",
      "episode: 12\n",
      "episode: 13\n",
      "episode: 14\n",
      "episode: 15\n",
      "episode: 16\n",
      "episode: 17\n",
      "episode: 18\n",
      "episode: 19\n",
      "episode: 20\n",
      "episode: 21\n",
      "episode: 22\n",
      "episode: 23\n",
      "episode: 24\n",
      "episode: 25\n",
      "episode: 26\n",
      "episode: 27\n",
      "episode: 28\n",
      "episode: 29\n",
      "episode: 30\n",
      "episode: 31\n",
      "episode: 32\n",
      "episode: 33\n",
      "episode: 34\n",
      "episode: 35\n",
      "episode: 36\n",
      "episode: 37\n",
      "episode: 38\n",
      "episode: 39\n",
      "episode: 40\n",
      "episode: 41\n",
      "episode: 42\n",
      "episode: 43\n",
      "episode: 44\n",
      "episode: 45\n",
      "episode: 46\n",
      "episode: 47\n",
      "episode: 48\n",
      "episode: 49\n",
      "episode: 50\n",
      "episode: 51\n",
      "episode: 52\n",
      "episode: 53\n",
      "episode: 54\n",
      "episode: 55\n",
      "episode: 56\n",
      "episode: 57\n",
      "episode: 58\n",
      "episode: 59\n",
      "episode: 60\n",
      "episode: 61\n",
      "episode: 62\n",
      "episode: 63\n",
      "episode: 64\n",
      "episode: 65\n",
      "episode: 66\n",
      "episode: 67\n",
      "episode: 68\n",
      "episode: 69\n",
      "episode: 70\n",
      "episode: 71\n",
      "episode: 72\n",
      "episode: 73\n",
      "episode: 74\n",
      "episode: 75\n",
      "episode: 76\n",
      "episode: 77\n",
      "episode: 78\n",
      "episode: 79\n",
      "episode: 80\n",
      "episode: 81\n",
      "episode: 82\n",
      "episode: 83\n",
      "episode: 84\n",
      "episode: 85\n",
      "episode: 86\n",
      "episode: 87\n",
      "episode: 88\n",
      "episode: 89\n",
      "episode: 90\n",
      "episode: 91\n",
      "episode: 92\n",
      "episode: 93\n",
      "episode: 94\n",
      "episode: 95\n",
      "episode: 96\n",
      "episode: 97\n",
      "episode: 98\n",
      "episode: 99\n",
      "episode: 100\n",
      "episode: 101\n",
      "episode: 102\n",
      "episode: 103\n",
      "episode: 104\n",
      "episode: 105\n",
      "episode: 106\n",
      "episode: 107\n",
      "episode: 108\n",
      "episode: 109\n",
      "episode: 110\n",
      "episode: 111\n",
      "episode: 112\n",
      "episode: 113\n",
      "episode: 114\n",
      "episode: 115\n",
      "episode: 116\n",
      "episode: 117\n",
      "episode: 118\n",
      "episode: 119\n",
      "episode: 120\n",
      "episode: 121\n",
      "episode: 122\n",
      "episode: 123\n",
      "episode: 124\n",
      "episode: 125\n",
      "episode: 126\n",
      "episode: 127\n",
      "episode: 128\n",
      "episode: 129\n",
      "episode: 130\n",
      "episode: 131\n",
      "episode: 132\n",
      "episode: 133\n",
      "episode: 134\n",
      "episode: 135\n",
      "episode: 136\n",
      "episode: 137\n",
      "episode: 138\n",
      "episode: 139\n",
      "episode: 140\n",
      "episode: 141\n",
      "episode: 142\n",
      "episode: 143\n",
      "episode: 144\n",
      "episode: 145\n",
      "episode: 146\n",
      "episode: 147\n",
      "episode: 148\n",
      "episode: 149\n",
      "INFO:tensorflow:Assets written to: models/artifacts/target_model/assets\n"
     ]
    },
    {
     "name": "stderr",
     "output_type": "stream",
     "text": [
      "INFO:tensorflow:Assets written to: models/artifacts/target_model/assets\n"
     ]
    },
    {
     "name": "stdout",
     "output_type": "stream",
     "text": [
      "INFO:tensorflow:Assets written to: models/artifactsmodel/assets\n"
     ]
    },
    {
     "name": "stderr",
     "output_type": "stream",
     "text": [
      "INFO:tensorflow:Assets written to: models/artifactsmodel/assets\n"
     ]
    },
    {
     "name": "stdout",
     "output_type": "stream",
     "text": [
      "finished\n"
     ]
    }
   ],
   "source": [
    "steps_results, rewards_results, debug = LunarLander(0.85, 150, 200)"
   ]
  },
  {
   "cell_type": "markdown",
   "metadata": {},
   "source": [
    "This model has a far lower epsilon decay, meaning that it will much faster that exploiting its knowledge than exploring, this \"should\" make the model worse when compared to the previous model, but should allow us to see it plateau on a given amount of rewards earned as it stops trying to expirement to gain higher scores"
   ]
  },
  {
   "cell_type": "code",
   "execution_count": 25,
   "metadata": {},
   "outputs": [
    {
     "data": {
      "image/png": "[encoded data removed]",
      "text/plain": [
       "<Figure size 432x288 with 1 Axes>"
      ]
     },
     "metadata": {
      "needs_background": "light"
     },
     "output_type": "display_data"
    }
   ],
   "source": [
    "plt.plot(rewards_results)\n",
    "plt.title(\"Amount of reward per episode\")\n",
    "\n",
    "plt.show()"
   ]
  },
  {
   "cell_type": "markdown",
   "metadata": {},
   "source": [
    "Due to the limited amount of episodes, however it is very unconclusive if the model actually learned something to start basing its actions on in the first place, meaning that eventho it might have started exploiting more, the exploitation actions were very poor (as expected) or the actions might as well have been random due to the low level of convergence onto a good strategy"
   ]
  },
  {
   "cell_type": "markdown",
   "metadata": {},
   "source": [
    "Further considering the fact that the previous (larger 500 episode model) started what seemed to be hovering in the air to minimize the possible loss from crashing, not considering the possible massive gain from landing, might actually not exclusively be because it started exploiting too early, but could indicate that the amount of steps per episode was too small making the risk of negative reward not big enough (as hovering can only cost as many points as the amount of steps the episode lasts)."
   ]
  },
  {
   "cell_type": "markdown",
   "metadata": {},
   "source": [
    "Lets actually try training the model with default parameters again, but this time make the episode last as long as necessary."
   ]
  },
  {
   "cell_type": "code",
   "execution_count": null,
   "metadata": {},
   "outputs": [],
   "source": [
    "import gym\n",
    "import numpy as np\n",
    "def LunarLanderEndless(episodes):\n",
    "    env = gym.make(\"LunarLander-v2\")\n",
    "\n",
    "    total_steps = []\n",
    "    total_rewards = []\n",
    "    info_results = [[]]\n",
    "\n",
    "    try:\n",
    "        agent = DQN(env=env)\n",
    "        for episode in range(episodes):\n",
    "            print(f\"episode: {episode}\")\n",
    "            state, info = env.reset() # Get initial state of the reset environment\n",
    "            state = state.reshape(1, 8)\n",
    "            steps_taken = 0\n",
    "            reward_score = 0\n",
    "            while True:\n",
    "                steps_taken += 1\n",
    "                action = agent.action(state) # Get action for current state\n",
    "                new_state, reward, terminated, truncated, debug = env.step(action) # Perform the action\n",
    "                new_state = new_state.reshape(1,8)\n",
    "\n",
    "                reward_score += reward\n",
    "\n",
    "                info_results[episode].append(debug) # add the debug info to look at later\n",
    "                if terminated or truncated: # Check if action caused environment to end\n",
    "                    break # environment terminated so current episode should finish\n",
    "                    \n",
    "                agent.remember(state, action, reward, new_state, terminated) # Store the performed action for given state and result in models memory\n",
    "\n",
    "                state = new_state # Set new state as current state (go to the next frame)\n",
    "            total_steps.append(steps_taken)\n",
    "            total_rewards.append(reward_score)\n",
    "                \n",
    "            agent.target_train() # adjust the target Q-table based on difference and learning rate of the two model's weights\n",
    "            agent.replay() # replay the memory of the model to adjust Q-table (weights) <- this kills performance\n",
    "        agent.save(\"endless\") # Store model for reuse\n",
    "    finally:\n",
    "        print(\"finished\")\n",
    "        env.close()\n",
    "        return total_steps, total_rewards, info_results"
   ]
  },
  {
   "cell_type": "code",
   "execution_count": null,
   "metadata": {},
   "outputs": [],
   "source": [
    "endless_steps_total, endless_rewards_total, endless_debug = LunarLanderEndless(500)"
   ]
  },
  {
   "cell_type": "markdown",
   "metadata": {},
   "source": [
    "I would also like to try out training the model every x amount of steps instead of every episode"
   ]
  },
  {
   "cell_type": "code",
   "execution_count": null,
   "metadata": {},
   "outputs": [],
   "source": [
    "import gym\n",
    "import numpy as np\n",
    "def LunarLanderRapidTraining(episodes):\n",
    "    env = gym.make(\"LunarLander-v2\")\n",
    "\n",
    "    total_steps = []\n",
    "    total_rewards = []\n",
    "    info_results = [[]]\n",
    "\n",
    "    try:\n",
    "        agent = DQN(env=env)\n",
    "        for episode in range(episodes):\n",
    "            print(f\"episode: {episode}\")\n",
    "            state, info = env.reset() # Get initial state of the reset environment\n",
    "            state = state.reshape(1, 8)\n",
    "            steps_taken = 0\n",
    "            reward_score = 0\n",
    "            while True:\n",
    "                steps_taken += 1\n",
    "                action = agent.action(state) # Get action for current state\n",
    "                new_state, reward, terminated, truncated, debug = env.step(action) # Perform the action\n",
    "                new_state = new_state.reshape(1,8)\n",
    "\n",
    "                reward_score += reward\n",
    "\n",
    "                info_results[episode].append(debug) # add the debug info to look at later\n",
    "                if terminated or truncated: # Check if action caused environment to end\n",
    "                    break # environment terminated so current episode should finish\n",
    "                    \n",
    "                agent.remember(state, action, reward, new_state, terminated) # Store the performed action for given state and result in models memory\n",
    "\n",
    "                state = new_state # Set new state as current state (go to the next frame)\n",
    "                if (steps_taken % 10) == 0:\n",
    "                    agent.target_train() # adjust the target Q-table based on difference and learning rate of the two model's weights\n",
    "                    agent.replay() # replay the memory of the model to adjust Q-table (weights) <- this kills performance\n",
    "            total_steps.append(steps_taken)\n",
    "            total_rewards.append(reward_score)\n",
    "                \n",
    "        agent.save(\"rapid\") # Store model for reuse\n",
    "    finally:\n",
    "        print(\"finished\")\n",
    "        env.close()\n",
    "        return total_steps, total_rewards, info_results"
   ]
  },
  {
   "cell_type": "code",
   "execution_count": null,
   "metadata": {},
   "outputs": [],
   "source": [
    "endless_steps_total, endless_rewards_total, endless_debug = LunarLanderRapidTraining(100)"
   ]
  }
 ],
 "metadata": {
  "kernelspec": {
   "display_name": "Python 3",
   "language": "python",
   "name": "python3"
  },
  "language_info": {
   "codemirror_mode": {
    "name": "ipython",
    "version": 3
   },
   "file_extension": ".py",
   "mimetype": "text/x-python",
   "name": "python",
   "nbconvert_exporter": "python",
   "pygments_lexer": "ipython3",
   "version": "3.10.2"
  }
 },
 "nbformat": 4,
 "nbformat_minor": 2
}
