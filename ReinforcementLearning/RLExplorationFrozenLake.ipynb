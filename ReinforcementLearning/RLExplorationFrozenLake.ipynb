{
 "cells": [
  {
   "cell_type": "markdown",
   "metadata": {},
   "source": [
    "This notebook explores the basics of Reinforcement learning after attending the RL workshop"
   ]
  },
  {
   "cell_type": "markdown",
   "metadata": {},
   "source": [
    "First the recommended How to apply? [Tabular Q-learning with Gym tutorial](https://towardsdatascience.com/reinforcement-learning-with-openai-d445c2c687d2) is followed.  \n",
    "NOTE: This blog post is not followed exactly, as it leaves out some very usefull information, has outdated code examples, and performs some very situationally dependant actions which does not work well when copying the steps taken over"
   ]
  },
  {
   "cell_type": "markdown",
   "metadata": {},
   "source": [
    "Lets view all our installed environments"
   ]
  },
  {
   "cell_type": "code",
   "execution_count": 6,
   "metadata": {},
   "outputs": [
    {
     "name": "stdout",
     "output_type": "stream",
     "text": [
      "dict_keys(['CartPole-v0', 'CartPole-v1', 'MountainCar-v0', 'MountainCarContinuous-v0', 'Pendulum-v1', 'Acrobot-v1', 'LunarLander-v2', 'LunarLanderContinuous-v2', 'BipedalWalker-v3', 'BipedalWalkerHardcore-v3', 'CarRacing-v2', 'Blackjack-v1', 'FrozenLake-v1', 'FrozenLake8x8-v1', 'CliffWalking-v0', 'Taxi-v3', 'Reacher-v2', 'Reacher-v4', 'Pusher-v2', 'Pusher-v4', 'InvertedPendulum-v2', 'InvertedPendulum-v4', 'InvertedDoublePendulum-v2', 'InvertedDoublePendulum-v4', 'HalfCheetah-v2', 'HalfCheetah-v3', 'HalfCheetah-v4', 'Hopper-v2', 'Hopper-v3', 'Hopper-v4', 'Swimmer-v2', 'Swimmer-v3', 'Swimmer-v4', 'Walker2d-v2', 'Walker2d-v3', 'Walker2d-v4', 'Ant-v2', 'Ant-v3', 'Ant-v4', 'Humanoid-v2', 'Humanoid-v3', 'Humanoid-v4', 'HumanoidStandup-v2', 'HumanoidStandup-v4'])\n"
     ]
    }
   ],
   "source": [
    "from gym import envs \n",
    "print(envs.registry.keys())"
   ]
  },
  {
   "cell_type": "markdown",
   "metadata": {},
   "source": [
    "Next lets render an environment, and perform random actions by sampling a random action from the action space, then the given action is perfomed within the environment.  \n",
    "Performing actions within the environment returns information about the action and environment including a terminated value, when this is True the model has been able to complete the environment goal."
   ]
  },
  {
   "cell_type": "code",
   "execution_count": 15,
   "metadata": {},
   "outputs": [
    {
     "name": "stderr",
     "output_type": "stream",
     "text": [
      "c:\\Users\\Sugar\\AppData\\Local\\Programs\\Python\\Python310\\lib\\site-packages\\gym\\envs\\classic_control\\continuous_mountain_car.py:193: UserWarning: \u001b[33mWARN: You are calling render method without specifying any render mode. You can specify the render_mode at initialization, e.g. gym(\"MountainCarContinuous-v0\", render_mode=\"rgb_array\")\u001b[0m\n",
      "  gym.logger.warn(\n"
     ]
    },
    {
     "name": "stdout",
     "output_type": "stream",
     "text": [
      "Finished after 3259 timesteps\n"
     ]
    }
   ],
   "source": [
    "import gym\n",
    "env = gym.make('MountainCarContinuous-v0')\n",
    "observation = env.reset()\n",
    "i = 0\n",
    "while True:\n",
    "    i += 1\n",
    "    env.render()\n",
    "    action = env.action_space.sample()\n",
    "    observation, reward, terminated, truncated, info = env.step(action)\n",
    "    if terminated:\n",
    "        print(\"Finished after {} timesteps\".format(i+1))\n",
    "        break"
   ]
  },
  {
   "cell_type": "code",
   "execution_count": 17,
   "metadata": {},
   "outputs": [
    {
     "name": "stdout",
     "output_type": "stream",
     "text": [
      "Box(-1.0, 1.0, (1,), float32)\n",
      "Box([-1.2  -0.07], [0.6  0.07], (2,), float32)\n"
     ]
    }
   ],
   "source": [
    "env = gym.make('MountainCarContinuous-v0')\n",
    "print(env.action_space) #[Output: ] Box(1,)\n",
    "print(env.observation_space) #[Output: ] Box(2,)"
   ]
  },
  {
   "cell_type": "markdown",
   "metadata": {},
   "source": [
    "The MountainCarContinuous-v0 has a single action space value, indicating the force applied in the x-axis (negative being left and positive being right),\n",
    "while the observation space shows two values, which to my knowledge indicate the position and velocity\n",
    "documentation on [this env](https://mgoulao.github.io/gym-docs/environments/classic_control/mountain_car_continuous/#observation-space)"
   ]
  },
  {
   "cell_type": "markdown",
   "metadata": {},
   "source": [
    "Next lets start working within the FrozenLake environment, for this additional environments had to be installed, which would have caused issues with box2d-py, but thankfully I have an older version of pip which still supports the legacy installer allowing me to install it via there automatically (pip=23.0.1, legacy installer no longer supported from pip=23.1)"
   ]
  },
  {
   "attachments": {
    "image.png": {
     "image/png": "[encoded data removed]"
    }
   },
   "cell_type": "markdown",
   "metadata": {},
   "source": [
    "Frozen lake is an environment which a 2d grid, on this grid there is a goal space, and some danger spaces that the actor has to navigate through.  \n",
    "![image.png](attachment:image.png)"
   ]
  },
  {
   "cell_type": "markdown",
   "metadata": {},
   "source": [
    "The first step of the model will be the Q-table, this table contains the actions for a given state whith the rewards that action is expected to give (this can also be seen as a representation for the quality of an action), this table will start off with random values, and through iterating over the environment, the Q-table can be refined based on the findings."
   ]
  },
  {
   "cell_type": "code",
   "execution_count": 45,
   "metadata": {},
   "outputs": [
    {
     "name": "stdout",
     "output_type": "stream",
     "text": [
      "Success rate (%) over 1000000 episodes: 0.0\n"
     ]
    }
   ],
   "source": [
    "import gym\n",
    "import numpy as np\n",
    "env = gym.make('FrozenLake-v1', render_mode='rgb_array', map_name='4x4') # Frozen lake of 4x4 size <- human renderer shows game visually in pop_up, but ruins performance\n",
    "Q = np.zeros([env.observation_space.n, env.action_space.n]) # env.observation.n, env.action_space.n gives number of states and action in env loaded\n",
    "# The table will look something like\n",
    "# | State | Action: Up | Action: Down | Action: Left | Action: Right |\n",
    "# |-------|------------|--------------|--------------|---------------|\n",
    "# |   0   |   0.2      |   0.1        |   0.3        |   0.5         |\n",
    "# | etc.                                                             |\n",
    "\n",
    "# Set the hyper parameters\n",
    "eta = .628 # Learning rate\n",
    "gma = .9 # discount factor, determining how far in the future the agent should consider\n",
    "iterations = 1000000 # amount of \"episodes, or iterations of the model\n",
    "\n",
    "total_rewards = []\n",
    "total_steps = []\n",
    "success_rate = []\n",
    "for i in range(iterations):\n",
    "    state = env.reset()[0] # Setup a fresh environment\n",
    "    episode_reward = 0\n",
    "    step = 0\n",
    "    while True: # Start stepping through the environment to obtain Q values to help improve the table\n",
    "        step += 1\n",
    "        # env.render()\n",
    "        # action = np.argmax(Q[s,:] + np.random.randn(1, env.action_space.n)*(1./(i+1))) # Choose a random action from the Q table\n",
    "        # A random action is obtained greedily, by first getting all actions within the current state, \n",
    "        # Obtain a list of random indexes within the possible range of actions <- this adds the exploration, so that the model does not get stuck in a local minimum of highest reward\n",
    "        # next this value is multiplied by a decreasing value based on episode count, thereby reducing the amount of exploration as the training continues\n",
    "        # lastyle, the greediest action is chosen from the adjusted list of actions based on highest reward \n",
    "        \n",
    "        # to make this more readable I have changed it to a conditional function instead\n",
    "        explorationChance = 1.0 / (i + 1)\n",
    "        if np.random.rand() < explorationChance:\n",
    "            action = env.action_space.sample() # Explore, by getting a random action\n",
    "        else:\n",
    "            action = np.argmax(Q[state, :]) # Exploit, by getting the best action\n",
    "\n",
    "        # Get new state & reward from environment\n",
    "        observation, reward, terminated, truncated, info = env.step(action) # perform the action\n",
    "        Q[state, action] = Q[state, action] + eta*(reward + gma*np.max(Q[observation,:]) - Q[state, action]) # Update Q-Table with the action result\n",
    "        # The new reward for given state and action is calculated by first, calculate the maxiumum expected reward from given action, taking into account future actions (based on gma)\n",
    "        # This maximum possible value is then subtracted from with the current value, to get the possible gain\n",
    "        # then the possible gain is added to the current value, reducing the possible gain first by eta\n",
    "        episode_reward += reward\n",
    "        state = observation # Update the state for next step\n",
    "        if terminated:\n",
    "            break # Environment was terminated, either by reaching the goal or falling in a hole\n",
    "\n",
    "    total_rewards.append(episode_reward)\n",
    "    total_steps.append(step)\n",
    "    success_rate.append(int(episode_reward > 0))\n",
    "    # env.render()\n",
    "env.close()\n",
    "print(f\"Success rate (%) over {iterations} episodes: {str(np.mean(success_rate) * 100)}\")"
   ]
  },
  {
   "cell_type": "markdown",
   "metadata": {},
   "source": [
    "Above I have set-up a Q-table learning model that will step through the frozen lake environment and update the Q-table based on the rewards gained, this model is very slow at learning however due to the agent only getting a reward when reaching the goal, which can take 100s if not 1000s of iterations before even reaching it once.  \n",
    "When training the model with 100.000 episodes, only sometimes would there be even a single successful episode, while with 1 million episodes it was still at 0 D:"
   ]
  },
  {
   "cell_type": "markdown",
   "metadata": {},
   "source": [
    "Below a plot of the rewards over the episodes"
   ]
  },
  {
   "cell_type": "code",
   "execution_count": 47,
   "metadata": {},
   "outputs": [
    {
     "data": {
      "image/png": "[encoded data removed]",
      "text/plain": [
       "<Figure size 432x288 with 1 Axes>"
      ]
     },
     "metadata": {
      "needs_background": "light"
     },
     "output_type": "display_data"
    }
   ],
   "source": [
    "import matplotlib.pyplot as plt\n",
    "\n",
    "average_reward_per_step = [reward / steps for reward, steps in zip(total_rewards, total_steps)]\n",
    "\n",
    "plt.plot(average_reward_per_step)\n",
    "plt.title(\"Average reward per step per episode\")\n",
    "\n",
    "plt.show()"
   ]
  },
  {
   "cell_type": "code",
   "execution_count": 48,
   "metadata": {},
   "outputs": [
    {
     "data": {
      "image/png": "[encoded data removed]",
      "text/plain": [
       "<Figure size 432x288 with 1 Axes>"
      ]
     },
     "metadata": {
      "needs_background": "light"
     },
     "output_type": "display_data"
    }
   ],
   "source": [
    "plt.plot(total_steps)\n",
    "plt.title(\"Amount of steps per episode\")\n",
    "\n",
    "plt.show()"
   ]
  },
  {
   "cell_type": "markdown",
   "metadata": {},
   "source": [
    "The agent is really just walking around for 100-200 steps, just to fall in a hole for a million times... (did I put this model in AI hell?)"
   ]
  },
  {
   "cell_type": "markdown",
   "metadata": {},
   "source": [
    "**Emeregency close of any running environment if code cell is interrupted, as otherwise it will kill the python kernel**"
   ]
  },
  {
   "cell_type": "code",
   "execution_count": 123,
   "metadata": {},
   "outputs": [
    {
     "ename": "",
     "evalue": "",
     "output_type": "error",
     "traceback": [
      "\u001b[1;31mThe Kernel crashed while executing code in the the current cell or a previous cell. Please review the code in the cell(s) to identify a possible cause of the failure. Click <a href='https://aka.ms/vscodeJupyterKernelCrash'>here</a> for more info. View Jupyter <a href='command:jupyter.viewOutput'>log</a> for further details."
     ]
    }
   ],
   "source": [
    "env.close()"
   ]
  },
  {
   "cell_type": "markdown",
   "metadata": {},
   "source": [
    "Next I will be looking at the [Keras ANN Q-learning example](https://towardsdatascience.com/reinforcement-learning-w-keras-openai-dqns-1eed3a5338c)"
   ]
  },
  {
   "cell_type": "code",
   "execution_count": 4,
   "metadata": {},
   "outputs": [],
   "source": [
    "import gym\n",
    "import numpy as np\n",
    "import random\n",
    "from keras.models import Sequential\n",
    "from keras.layers import Dense, Dropout\n",
    "from keras.optimizers import Adam\n",
    "from collections import deque"
   ]
  },
  {
   "cell_type": "markdown",
   "metadata": {},
   "source": [
    "First lets create a class that holds all of the required DQN definitions"
   ]
  },
  {
   "cell_type": "code",
   "execution_count": 1,
   "metadata": {},
   "outputs": [],
   "source": [
    "class DQN:\n",
    "    def __init__(self, env):\n",
    "        self.env = env # gym environment\n",
    "        self.memory = deque(maxlen=2000) # maximum memory of 2000, a random selection will be made of the memory when evaluating actions\n",
    "        \n",
    "        self.gamma = 0.85 # future discount factor\n",
    "        self.epsilon = 1.0 # exploration vs exploitation\n",
    "        self.epsilon_min = 0.01\n",
    "        self.epsilon_decay = 0.995\n",
    "        self.eta = 0.005 # learning rate\n",
    "        self.tau = .125 # model weight adjustment rate for target model\n",
    "        self.history_batch_size = 8 # Amount of history states to replay\n",
    "\n",
    "        self.model = self.create_model() # The model used for training and is updated rapidly\n",
    "        self.target_model = self.create_model() # The model t|hat updates less often, used to give actions to the current episode\n",
    "\n",
    "    def create_model(self):\n",
    "        # Create the ANN model that will handle the action choice \n",
    "        model = Sequential()\n",
    "        state_shape = self.env.observation_space.shape\n",
    "        model.add(Dense(24, input_dim=state_shape[0], activation=\"relu\"))\n",
    "        model.add(Dense(48, activation=\"relu\"))\n",
    "        model.add(Dense(24, activation=\"relu\"))\n",
    "        model.add(Dense(self.env.action_space.n))\n",
    "        model.compile(loss=\"mean_squared_error\", optimizer=Adam(learning_rate=self.eta))\n",
    "        return model\n",
    "\n",
    "    def action(self, state):\n",
    "        # Choose an action to take from the more stable weighted model\n",
    "        self.epsilon *= self.epsilon_decay\n",
    "        self.epsilon = max(self.epsilon_min, self.epsilon)\n",
    "        if np.random.random() < self.epsilon:\n",
    "            return self.env.action_space.sample() # Exlore a random action\n",
    "        return np.argmax(self.model.predict(np.array(state, dtype=np.float32), verbose=0)[0]) # Greedily select action\n",
    "\n",
    "    def remember(self, state, action, reward, new_state, done):\n",
    "        # Add action results to the model memory\n",
    "        self.memory.append([np.array(state, dtype=np.float32), action, reward, new_state, done])\n",
    "\n",
    "    def replay(self):\n",
    "        # Attempt to improve weights of model by replaying the model's memory (this is scarily similar to what is presumed to happen during REM sleep...)\n",
    "        if len(self.memory) < self.history_batch_size: \n",
    "            return\n",
    "\n",
    "        samples = random.sample(self.memory, self.history_batch_size)\n",
    "        for sample in samples:\n",
    "            state, action, reward, new_state, done = sample\n",
    "            target = self.target_model.predict(state, verbose=0)\n",
    "            if done:\n",
    "                target[0][action] = reward # If state is terminated, set the Q-value to be the reward value\n",
    "            else:\n",
    "                Q_future = max(self.target_model.predict(new_state, verbose=0)[0]) # Calculate the Q-value based on future steps\n",
    "                target[0][action] = reward + Q_future * self.gamma\n",
    "            self.model.fit(state, target, epochs=1, verbose=0)\n",
    "\n",
    "    def target_train(self):\n",
    "        # Update the weights of the action giving model,\n",
    "        # This model's weights are adjusted less often to reduce the amount of entropy experienced when having a model predict actions with rapidly changing weights\n",
    "        weights = self.model.get_weights()\n",
    "        target_weights = self.target_model.get_weights()\n",
    "        for i in range(len(target_weights)):\n",
    "            target_weights[i] = weights[i] * self.tau + target_weights[i] * (1 - self.tau)\n",
    "        self.target_model.set_weights(target_weights)\n"
   ]
  },
  {
   "cell_type": "code",
   "execution_count": 5,
   "metadata": {},
   "outputs": [
    {
     "name": "stderr",
     "output_type": "stream",
     "text": [
      "2023-10-25 23:54:30.424642: I tensorflow/compiler/xla/stream_executor/cuda/cuda_gpu_executor.cc:880] could not open file to read NUMA node: /sys/bus/pci/devices/0000:0a:00.0/numa_node\n",
      "Your kernel may have been built without NUMA support.\n",
      "2023-10-25 23:54:30.449351: I tensorflow/compiler/xla/stream_executor/cuda/cuda_gpu_executor.cc:880] could not open file to read NUMA node: /sys/bus/pci/devices/0000:0a:00.0/numa_node\n",
      "Your kernel may have been built without NUMA support.\n",
      "2023-10-25 23:54:30.449392: I tensorflow/compiler/xla/stream_executor/cuda/cuda_gpu_executor.cc:880] could not open file to read NUMA node: /sys/bus/pci/devices/0000:0a:00.0/numa_node\n",
      "Your kernel may have been built without NUMA support.\n",
      "2023-10-25 23:54:30.451983: I tensorflow/compiler/xla/stream_executor/cuda/cuda_gpu_executor.cc:880] could not open file to read NUMA node: /sys/bus/pci/devices/0000:0a:00.0/numa_node\n",
      "Your kernel may have been built without NUMA support.\n",
      "2023-10-25 23:54:30.452025: I tensorflow/compiler/xla/stream_executor/cuda/cuda_gpu_executor.cc:880] could not open file to read NUMA node: /sys/bus/pci/devices/0000:0a:00.0/numa_node\n",
      "Your kernel may have been built without NUMA support.\n",
      "2023-10-25 23:54:30.452042: I tensorflow/compiler/xla/stream_executor/cuda/cuda_gpu_executor.cc:880] could not open file to read NUMA node: /sys/bus/pci/devices/0000:0a:00.0/numa_node\n",
      "Your kernel may have been built without NUMA support.\n",
      "2023-10-25 23:54:30.616612: I tensorflow/compiler/xla/stream_executor/cuda/cuda_gpu_executor.cc:880] could not open file to read NUMA node: /sys/bus/pci/devices/0000:0a:00.0/numa_node\n",
      "Your kernel may have been built without NUMA support.\n",
      "2023-10-25 23:54:30.616659: I tensorflow/compiler/xla/stream_executor/cuda/cuda_gpu_executor.cc:880] could not open file to read NUMA node: /sys/bus/pci/devices/0000:0a:00.0/numa_node\n",
      "Your kernel may have been built without NUMA support.\n",
      "2023-10-25 23:54:30.616666: I tensorflow/core/common_runtime/gpu/gpu_device.cc:1977] Could not identify NUMA node of platform GPU id 0, defaulting to 0.  Your kernel may not have been built with NUMA support.\n",
      "2023-10-25 23:54:30.616693: I tensorflow/compiler/xla/stream_executor/cuda/cuda_gpu_executor.cc:880] could not open file to read NUMA node: /sys/bus/pci/devices/0000:0a:00.0/numa_node\n",
      "Your kernel may have been built without NUMA support.\n",
      "2023-10-25 23:54:30.616710: I tensorflow/core/common_runtime/gpu/gpu_device.cc:1886] Created device /job:localhost/replica:0/task:0/device:GPU:0 with 6731 MB memory:  -> device: 0, name: NVIDIA GeForce GTX 1070, pci bus id: 0000:0a:00.0, compute capability: 6.1\n",
      "/home/thomas/.local/lib/python3.10/site-packages/gym/utils/passive_env_checker.py:233: DeprecationWarning: `np.bool8` is a deprecated alias for `np.bool_`.  (Deprecated NumPy 1.24)\n",
      "  if not isinstance(terminated, (bool, np.bool8)):\n"
     ]
    },
    {
     "name": "stdout",
     "output_type": "stream",
     "text": [
      "episode: 0\n"
     ]
    },
    {
     "name": "stderr",
     "output_type": "stream",
     "text": [
      "2023-10-25 23:54:31.612093: I tensorflow/tsl/platform/default/subprocess.cc:304] Start cannot spawn child process: No such file or directory\n",
      "2023-10-25 23:54:32.751144: I tensorflow/compiler/xla/service/service.cc:168] XLA service 0x7fa1a0005fe0 initialized for platform CUDA (this does not guarantee that XLA will be used). Devices:\n",
      "2023-10-25 23:54:32.751192: I tensorflow/compiler/xla/service/service.cc:176]   StreamExecutor device (0): NVIDIA GeForce GTX 1070, Compute Capability 6.1\n",
      "2023-10-25 23:54:32.758386: I tensorflow/compiler/mlir/tensorflow/utils/dump_mlir_util.cc:269] disabling MLIR crash reproducer, set env var `MLIR_CRASH_REPRODUCER_DIRECTORY` to enable.\n",
      "2023-10-25 23:54:32.783397: I tensorflow/compiler/xla/stream_executor/cuda/cuda_dnn.cc:442] Loaded cuDNN version 8700\n",
      "2023-10-25 23:54:32.879733: I ./tensorflow/compiler/jit/device_compiler.h:186] Compiled cluster using XLA!  This line is logged at most once for the lifetime of the process.\n"
     ]
    },
    {
     "name": "stdout",
     "output_type": "stream",
     "text": [
      "episode: 1\n",
      "episode: 2\n",
      "episode: 3\n",
      "episode: 4\n"
     ]
    }
   ],
   "source": [
    "env = gym.make(\"MountainCar-v0\")\n",
    "episodes = 5\n",
    "max_steps = 100\n",
    "\n",
    "total_steps = []\n",
    "\n",
    "agent = DQN(env=env)\n",
    "for episode in range(episodes):\n",
    "    print(f\"episode: {episode}\")\n",
    "    cur_state = [list(env.reset()[0])] # Get initial state of the reset environment\n",
    "    first_step = True\n",
    "    for step in range(max_steps):\n",
    "        action = agent.action(cur_state) # Get action for current state\n",
    "        new_state, reward, terminated, truncated, debug = env.step(action) # Perform the action\n",
    "        new_state = new_state.reshape(1,2)\n",
    "            \n",
    "        agent.remember(cur_state, action, reward, new_state, terminated) # Store the performed action for given state and result in models memory\n",
    "        \n",
    "        agent.replay() # replay the memory of the model to adjust Q-table (weights) <- this kills performance\n",
    "        agent.target_train() # adjust the target Q-table based on difference and learning rate of the two model's weights\n",
    "\n",
    "        cur_state = new_state\n",
    "        if terminated:\n",
    "            total_steps.append(step)\n",
    "            break # environment terminated"
   ]
  },
  {
   "cell_type": "markdown",
   "metadata": {},
   "source": [
    "Lets implement GPU support for tensorflow, because the constant training of the ANN is making the model extremely slow (15 minutes+ per episode)"
   ]
  },
  {
   "cell_type": "code",
   "execution_count": 1,
   "metadata": {},
   "outputs": [
    {
     "data": {
      "text/plain": [
       "'2.14.0'"
      ]
     },
     "execution_count": 1,
     "metadata": {},
     "output_type": "execute_result"
    }
   ],
   "source": [
    "import tensorflow as tf\n",
    "tf.__version__"
   ]
  },
  {
   "cell_type": "code",
   "execution_count": 2,
   "metadata": {},
   "outputs": [
    {
     "data": {
      "text/plain": [
       "[]"
      ]
     },
     "execution_count": 2,
     "metadata": {},
     "output_type": "execute_result"
    }
   ],
   "source": [
    "tf.config.list_physical_devices('GPU')"
   ]
  },
  {
   "cell_type": "markdown",
   "metadata": {},
   "source": [
    "As you can see, right now I have v 2.14.0 of tensorflow, and there are no avaible GPUs, while I do have a GTX 1070 in this PC,  \n",
    "the GTX 1070 (unlike my GTX 1650 in my laptop D:) is CUDA-Enabled according to the [NVidia support list](https://developer.nvidia.com/cuda-gpus), also make sure the newest drivers for the given graphics card are installed (I have already done this, as it is generally best practise to keep them up-to-date).  \n",
    "   \n",
    "Next, install the [CUDA Toolkit](https://developer.nvidia.com/cuda-toolkit-archive) in accordance to the version [supported by tensorflow](https://www.tensorflow.org/install/source) which in this case is 11.8,  \n",
    "   \n",
    "and lastly install the [cuDNN SDK](https://developer.nvidia.com/cudnn) which will extend the CUDA Toolkit, once again make sure it is the version that the installed tensorflow version supports. (After downloading the SDK, move the files into the toolkit directory which after some looking around turned out to be here: C:\\Program Files\\NVIDIA GPU Computing Toolkit\\CUDA\\v11.8)."
   ]
  },
  {
   "cell_type": "markdown",
   "metadata": {},
   "source": [
    "Now that the windows GPU side is done, lets set-up WSL2, as TF>2.18 no longer has native windows support >:(  \n",
    "First step will be to install [WSL2](https://learn.microsoft.com/en-us/windows/wsl/install) thankfully I have already done that.  \n",
    "  \n",
    "Next setup GPU support in WSL2, this can best be done via the [NVidia getting started guide](https://docs.nvidia.com/cuda/wsl-user-guide/index.html#getting-started-with-cuda-on-wsl-2), via this guide the CUDA toolkit will also be installed on the WSL2 client for the specific GPU.  \n",
    "(NOTE: Make sure to install cuda toolkit version has mentioned before (11.8) as the guide might not indicate the correct version!!!)\n",
    "  \n",
    "After this, pip and tensorflow can be installed (make sure that when you try to access the wsl, you have the correct distro selected as for me it kept giving errors due to my Docker instance being set as the default)."
   ]
  },
  {
   "cell_type": "code",
   "execution_count": 1,
   "metadata": {},
   "outputs": [
    {
     "name": "stderr",
     "output_type": "stream",
     "text": [
      "2023-10-25 23:23:42.732993: E tensorflow/compiler/xla/stream_executor/cuda/cuda_dnn.cc:9342] Unable to register cuDNN factory: Attempting to register factory for plugin cuDNN when one has already been registered\n",
      "2023-10-25 23:23:42.733047: E tensorflow/compiler/xla/stream_executor/cuda/cuda_fft.cc:609] Unable to register cuFFT factory: Attempting to register factory for plugin cuFFT when one has already been registered\n",
      "2023-10-25 23:23:42.733068: E tensorflow/compiler/xla/stream_executor/cuda/cuda_blas.cc:1518] Unable to register cuBLAS factory: Attempting to register factory for plugin cuBLAS when one has already been registered\n",
      "2023-10-25 23:23:42.738794: I tensorflow/core/platform/cpu_feature_guard.cc:182] This TensorFlow binary is optimized to use available CPU instructions in performance-critical operations.\n",
      "To enable the following instructions: AVX2 FMA, in other operations, rebuild TensorFlow with the appropriate compiler flags.\n",
      "2023-10-25 23:23:44.494920: I tensorflow/compiler/xla/stream_executor/cuda/cuda_gpu_executor.cc:880] could not open file to read NUMA node: /sys/bus/pci/devices/0000:0a:00.0/numa_node\n",
      "Your kernel may have been built without NUMA support.\n",
      "2023-10-25 23:23:44.498328: I tensorflow/compiler/xla/stream_executor/cuda/cuda_gpu_executor.cc:880] could not open file to read NUMA node: /sys/bus/pci/devices/0000:0a:00.0/numa_node\n",
      "Your kernel may have been built without NUMA support.\n",
      "2023-10-25 23:23:44.498387: I tensorflow/compiler/xla/stream_executor/cuda/cuda_gpu_executor.cc:880] could not open file to read NUMA node: /sys/bus/pci/devices/0000:0a:00.0/numa_node\n",
      "Your kernel may have been built without NUMA support.\n"
     ]
    },
    {
     "data": {
      "text/plain": [
       "[PhysicalDevice(name='/physical_device:GPU:0', device_type='GPU')]"
      ]
     },
     "execution_count": 1,
     "metadata": {},
     "output_type": "execute_result"
    }
   ],
   "source": [
    "import tensorflow as tf\n",
    "tf.config.list_physical_devices('GPU')"
   ]
  },
  {
   "cell_type": "markdown",
   "metadata": {},
   "source": [
    "So 'Technically' yes, I am now running the notebook through WSL2 with TF able the access my GPU, however it throws a lot of warnings both in just this function example to check if it can find my GPU, and even more when modelling (most of these warnings seem to be about the kernel not supporting NUMA, which *should* be fine according to some discussion threads out there...)."
   ]
  },
  {
   "cell_type": "code",
   "execution_count": null,
   "metadata": {},
   "outputs": [],
   "source": []
  }
 ],
 "metadata": {
  "kernelspec": {
   "display_name": "Python 3",
   "language": "python",
   "name": "python3"
  },
  "language_info": {
   "codemirror_mode": {
    "name": "ipython",
    "version": 3
   },
   "file_extension": ".py",
   "mimetype": "text/x-python",
   "name": "python",
   "nbconvert_exporter": "python",
   "pygments_lexer": "ipython3",
   "version": "3.10.6"
  }
 },
 "nbformat": 4,
 "nbformat_minor": 2
}
