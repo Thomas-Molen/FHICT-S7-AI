{
 "cells": [
  {
   "cell_type": "code",
   "execution_count": 3,
   "metadata": {},
   "outputs": [],
   "source": [
    "import gym\n",
    "\n",
    "# Register the environment\n",
    "gym.register(\n",
    "    id='WebEnv-v0',\n",
    "    entry_point='Environments.Gym.WebEnvironment:WebEnv',\n",
    "    kwargs={'url': None, 'keywords': [], 'rewards': {}}\n",
    ")"
   ]
  },
  {
   "cell_type": "code",
   "execution_count": 4,
   "metadata": {},
   "outputs": [],
   "source": [
    "env = gym.make('WebEnv-v0',\n",
    "               render_mode='human',\n",
    "               url='https://webadventure.thomasmolen.com/',\n",
    "               keywords=['target', \"value\"])"
   ]
  },
  {
   "cell_type": "code",
   "execution_count": 5,
   "metadata": {},
   "outputs": [
    {
     "name": "stderr",
     "output_type": "stream",
     "text": [
      "c:\\Users\\Sugar\\AppData\\Local\\Programs\\Python\\Python310\\lib\\site-packages\\gym\\utils\\passive_env_checker.py:137: UserWarning: \u001b[33mWARN: The obs returned by the `reset()` method was expecting a numpy array, actual type: <class 'int'>\u001b[0m\n",
      "  logger.warn(\n",
      "c:\\Users\\Sugar\\AppData\\Local\\Programs\\Python\\Python310\\lib\\site-packages\\gym\\spaces\\box.py:227: UserWarning: \u001b[33mWARN: Casting input x to numpy array.\u001b[0m\n",
      "  logger.warn(\"Casting input x to numpy array.\")\n",
      "c:\\Users\\Sugar\\AppData\\Local\\Programs\\Python\\Python310\\lib\\site-packages\\gym\\utils\\passive_env_checker.py:165: UserWarning: \u001b[33mWARN: The obs returned by the `reset()` method is not within the observation space.\u001b[0m\n",
      "  logger.warn(f\"{pre} is not within the observation space.\")\n"
     ]
    }
   ],
   "source": [
    "state, info = env.reset()"
   ]
  },
  {
   "cell_type": "code",
   "execution_count": 6,
   "metadata": {},
   "outputs": [
    {
     "name": "stderr",
     "output_type": "stream",
     "text": [
      "c:\\Users\\Sugar\\AppData\\Local\\Programs\\Python\\Python310\\lib\\site-packages\\gym\\utils\\passive_env_checker.py:137: UserWarning: \u001b[33mWARN: The obs returned by the `step()` method was expecting a numpy array, actual type: <class 'int'>\u001b[0m\n",
      "  logger.warn(\n",
      "c:\\Users\\Sugar\\AppData\\Local\\Programs\\Python\\Python310\\lib\\site-packages\\gym\\utils\\passive_env_checker.py:165: UserWarning: \u001b[33mWARN: The obs returned by the `step()` method is not within the observation space.\u001b[0m\n",
      "  logger.warn(f\"{pre} is not within the observation space.\")\n"
     ]
    }
   ],
   "source": [
    "state, reward, terminated, done, info = env.step(0) "
   ]
  },
  {
   "cell_type": "code",
   "execution_count": 9,
   "metadata": {},
   "outputs": [],
   "source": [
    "state, reward, terminated, done, info = env.step(1) "
   ]
  },
  {
   "cell_type": "code",
   "execution_count": 7,
   "metadata": {},
   "outputs": [],
   "source": [
    "env.close()"
   ]
  },
  {
   "cell_type": "code",
   "execution_count": 11,
   "metadata": {},
   "outputs": [
    {
     "data": {
      "text/plain": [
       "{'driver': <selenium.webdriver.chrome.webdriver.WebDriver (session=\"12b37115a57e9a4091c1dbd93e412679\")>,\n",
       " 'url': 'https://webadventure.thomasmolen.com/',\n",
       " 'interactables': [<selenium.webdriver.remote.webelement.WebElement (session=\"12b37115a57e9a4091c1dbd93e412679\", element=\"230E53AD276CB998F8BE71FA2B4E2144_element_18\")>,\n",
       "  <selenium.webdriver.remote.webelement.WebElement (session=\"12b37115a57e9a4091c1dbd93e412679\", element=\"230E53AD276CB998F8BE71FA2B4E2144_element_19\")>,\n",
       "  <selenium.webdriver.remote.webelement.WebElement (session=\"12b37115a57e9a4091c1dbd93e412679\", element=\"230E53AD276CB998F8BE71FA2B4E2144_element_20\")>,\n",
       "  <selenium.webdriver.remote.webelement.WebElement (session=\"12b37115a57e9a4091c1dbd93e412679\", element=\"230E53AD276CB998F8BE71FA2B4E2144_element_21\")>,\n",
       "  <selenium.webdriver.remote.webelement.WebElement (session=\"12b37115a57e9a4091c1dbd93e412679\", element=\"230E53AD276CB998F8BE71FA2B4E2144_element_22\")>,\n",
       "  <selenium.webdriver.remote.webelement.WebElement (session=\"12b37115a57e9a4091c1dbd93e412679\", element=\"230E53AD276CB998F8BE71FA2B4E2144_element_23\")>,\n",
       "  <selenium.webdriver.remote.webelement.WebElement (session=\"12b37115a57e9a4091c1dbd93e412679\", element=\"230E53AD276CB998F8BE71FA2B4E2144_element_24\")>,\n",
       "  <selenium.webdriver.remote.webelement.WebElement (session=\"12b37115a57e9a4091c1dbd93e412679\", element=\"230E53AD276CB998F8BE71FA2B4E2144_element_25\")>],\n",
       " 'interaction_idx': 0}"
      ]
     },
     "execution_count": 11,
     "metadata": {},
     "output_type": "execute_result"
    }
   ],
   "source": [
    "info"
   ]
  },
  {
   "cell_type": "code",
   "execution_count": 11,
   "metadata": {},
   "outputs": [],
   "source": [
    "driver = info[\"driver\"]"
   ]
  },
  {
   "cell_type": "code",
   "execution_count": 14,
   "metadata": {},
   "outputs": [
    {
     "data": {
      "text/plain": [
       "<selenium.webdriver.remote.webelement.WebElement (session=\"181014310dea4cc44147ffbf9f8ea222\", element=\"17604F52D435082AB856D07E5D9BE6D9_element_3\")>"
      ]
     },
     "execution_count": 14,
     "metadata": {},
     "output_type": "execute_result"
    }
   ],
   "source": [
    "info[\"interactables\"][info[\"selected_interactable\"]]"
   ]
  },
  {
   "cell_type": "code",
   "execution_count": 5,
   "metadata": {},
   "outputs": [
    {
     "data": {
      "text/plain": [
       "{'LOGS': {'SEVERE': 100, 'WARNING': 10, 'INFO': 0}}"
      ]
     },
     "execution_count": 5,
     "metadata": {},
     "output_type": "execute_result"
    }
   ],
   "source": [
    "env.reward_table"
   ]
  },
  {
   "cell_type": "code",
   "execution_count": 21,
   "metadata": {},
   "outputs": [],
   "source": [
    "windows = driver.window_handles"
   ]
  },
  {
   "cell_type": "code",
   "execution_count": 13,
   "metadata": {},
   "outputs": [
    {
     "data": {
      "text/plain": [
       "'68A65E2549526636FEB16B1D1237F7BB'"
      ]
     },
     "execution_count": 13,
     "metadata": {},
     "output_type": "execute_result"
    }
   ],
   "source": [
    "driver.current_window_handle"
   ]
  },
  {
   "cell_type": "code",
   "execution_count": 14,
   "metadata": {},
   "outputs": [],
   "source": [
    "driver.switch_to.window(\"6432BBEAFF614B80593FCF548858AB17\")"
   ]
  },
  {
   "cell_type": "code",
   "execution_count": 15,
   "metadata": {},
   "outputs": [
    {
     "data": {
      "text/plain": [
       "'https://www.linkedin.com/in/thomas-van-der-molen-6427a7181/'"
      ]
     },
     "execution_count": 15,
     "metadata": {},
     "output_type": "execute_result"
    }
   ],
   "source": [
    "driver.current_url"
   ]
  },
  {
   "cell_type": "code",
   "execution_count": 12,
   "metadata": {},
   "outputs": [
    {
     "data": {
      "text/plain": [
       "['35895BDBB4FDA7A9A750C4E8AF8B9509', '7A7DF5921A31B0871C08EC6C1A0AB8EF']"
      ]
     },
     "execution_count": 12,
     "metadata": {},
     "output_type": "execute_result"
    }
   ],
   "source": [
    "driver.window_handles"
   ]
  },
  {
   "cell_type": "code",
   "execution_count": 16,
   "metadata": {},
   "outputs": [
    {
     "ename": "NoSuchWindowException",
     "evalue": "Message: no such window: target window already closed\nfrom unknown error: web view not found\n  (Session info: chrome=120.0.6099.218)\nStacktrace:\n\tGetHandleVerifier [0x00007FF608B782B2+55298]\n\t(No symbol) [0x00007FF608AE5E02]\n\t(No symbol) [0x00007FF6089A05AB]\n\t(No symbol) [0x00007FF608980038]\n\t(No symbol) [0x00007FF608A06BC7]\n\t(No symbol) [0x00007FF608A0C57B]\n\t(No symbol) [0x00007FF608A02070]\n\t(No symbol) [0x00007FF6089D670A]\n\t(No symbol) [0x00007FF6089D7964]\n\tGetHandleVerifier [0x00007FF608EF0AAB+3694587]\n\tGetHandleVerifier [0x00007FF608F4728E+4048862]\n\tGetHandleVerifier [0x00007FF608F3F173+4015811]\n\tGetHandleVerifier [0x00007FF608C147D6+695590]\n\t(No symbol) [0x00007FF608AF0CE8]\n\t(No symbol) [0x00007FF608AECF34]\n\t(No symbol) [0x00007FF608AED062]\n\t(No symbol) [0x00007FF608ADD3A3]\n\tBaseThreadInitThunk [0x00007FF953887344+20]\n\tRtlUserThreadStart [0x00007FF9558026B1+33]\n",
     "output_type": "error",
     "traceback": [
      "\u001b[1;31m---------------------------------------------------------------------------\u001b[0m",
      "\u001b[1;31mNoSuchWindowException\u001b[0m                     Traceback (most recent call last)",
      "Input \u001b[1;32mIn [16]\u001b[0m, in \u001b[0;36m<cell line: 1>\u001b[1;34m()\u001b[0m\n\u001b[1;32m----> 1\u001b[0m \u001b[43mdriver\u001b[49m\u001b[38;5;241;43m.\u001b[39;49m\u001b[43mcurrent_window_handle\u001b[49m\n",
      "File \u001b[1;32mc:\\Users\\Sugar\\AppData\\Local\\Programs\\Python\\Python310\\lib\\site-packages\\selenium\\webdriver\\remote\\webdriver.py:483\u001b[0m, in \u001b[0;36mWebDriver.current_window_handle\u001b[1;34m(self)\u001b[0m\n\u001b[0;32m    474\u001b[0m \u001b[38;5;129m@property\u001b[39m\n\u001b[0;32m    475\u001b[0m \u001b[38;5;28;01mdef\u001b[39;00m \u001b[38;5;21mcurrent_window_handle\u001b[39m(\u001b[38;5;28mself\u001b[39m) \u001b[38;5;241m-\u001b[39m\u001b[38;5;241m>\u001b[39m \u001b[38;5;28mstr\u001b[39m:\n\u001b[0;32m    476\u001b[0m \u001b[38;5;250m    \u001b[39m\u001b[38;5;124;03m\"\"\"Returns the handle of the current window.\u001b[39;00m\n\u001b[0;32m    477\u001b[0m \n\u001b[0;32m    478\u001b[0m \u001b[38;5;124;03m    :Usage:\u001b[39;00m\n\u001b[1;32m   (...)\u001b[0m\n\u001b[0;32m    481\u001b[0m \u001b[38;5;124;03m            driver.current_window_handle\u001b[39;00m\n\u001b[0;32m    482\u001b[0m \u001b[38;5;124;03m    \"\"\"\u001b[39;00m\n\u001b[1;32m--> 483\u001b[0m     \u001b[38;5;28;01mreturn\u001b[39;00m \u001b[38;5;28;43mself\u001b[39;49m\u001b[38;5;241;43m.\u001b[39;49m\u001b[43mexecute\u001b[49m\u001b[43m(\u001b[49m\u001b[43mCommand\u001b[49m\u001b[38;5;241;43m.\u001b[39;49m\u001b[43mW3C_GET_CURRENT_WINDOW_HANDLE\u001b[49m\u001b[43m)\u001b[49m[\u001b[38;5;124m\"\u001b[39m\u001b[38;5;124mvalue\u001b[39m\u001b[38;5;124m\"\u001b[39m]\n",
      "File \u001b[1;32mc:\\Users\\Sugar\\AppData\\Local\\Programs\\Python\\Python310\\lib\\site-packages\\selenium\\webdriver\\remote\\webdriver.py:347\u001b[0m, in \u001b[0;36mWebDriver.execute\u001b[1;34m(self, driver_command, params)\u001b[0m\n\u001b[0;32m    345\u001b[0m response \u001b[38;5;241m=\u001b[39m \u001b[38;5;28mself\u001b[39m\u001b[38;5;241m.\u001b[39mcommand_executor\u001b[38;5;241m.\u001b[39mexecute(driver_command, params)\n\u001b[0;32m    346\u001b[0m \u001b[38;5;28;01mif\u001b[39;00m response:\n\u001b[1;32m--> 347\u001b[0m     \u001b[38;5;28;43mself\u001b[39;49m\u001b[38;5;241;43m.\u001b[39;49m\u001b[43merror_handler\u001b[49m\u001b[38;5;241;43m.\u001b[39;49m\u001b[43mcheck_response\u001b[49m\u001b[43m(\u001b[49m\u001b[43mresponse\u001b[49m\u001b[43m)\u001b[49m\n\u001b[0;32m    348\u001b[0m     response[\u001b[38;5;124m\"\u001b[39m\u001b[38;5;124mvalue\u001b[39m\u001b[38;5;124m\"\u001b[39m] \u001b[38;5;241m=\u001b[39m \u001b[38;5;28mself\u001b[39m\u001b[38;5;241m.\u001b[39m_unwrap_value(response\u001b[38;5;241m.\u001b[39mget(\u001b[38;5;124m\"\u001b[39m\u001b[38;5;124mvalue\u001b[39m\u001b[38;5;124m\"\u001b[39m, \u001b[38;5;28;01mNone\u001b[39;00m))\n\u001b[0;32m    349\u001b[0m     \u001b[38;5;28;01mreturn\u001b[39;00m response\n",
      "File \u001b[1;32mc:\\Users\\Sugar\\AppData\\Local\\Programs\\Python\\Python310\\lib\\site-packages\\selenium\\webdriver\\remote\\errorhandler.py:229\u001b[0m, in \u001b[0;36mErrorHandler.check_response\u001b[1;34m(self, response)\u001b[0m\n\u001b[0;32m    227\u001b[0m         alert_text \u001b[38;5;241m=\u001b[39m value[\u001b[38;5;124m\"\u001b[39m\u001b[38;5;124malert\u001b[39m\u001b[38;5;124m\"\u001b[39m]\u001b[38;5;241m.\u001b[39mget(\u001b[38;5;124m\"\u001b[39m\u001b[38;5;124mtext\u001b[39m\u001b[38;5;124m\"\u001b[39m)\n\u001b[0;32m    228\u001b[0m     \u001b[38;5;28;01mraise\u001b[39;00m exception_class(message, screen, stacktrace, alert_text)  \u001b[38;5;66;03m# type: ignore[call-arg]  # mypy is not smart enough here\u001b[39;00m\n\u001b[1;32m--> 229\u001b[0m \u001b[38;5;28;01mraise\u001b[39;00m exception_class(message, screen, stacktrace)\n",
      "\u001b[1;31mNoSuchWindowException\u001b[0m: Message: no such window: target window already closed\nfrom unknown error: web view not found\n  (Session info: chrome=120.0.6099.218)\nStacktrace:\n\tGetHandleVerifier [0x00007FF608B782B2+55298]\n\t(No symbol) [0x00007FF608AE5E02]\n\t(No symbol) [0x00007FF6089A05AB]\n\t(No symbol) [0x00007FF608980038]\n\t(No symbol) [0x00007FF608A06BC7]\n\t(No symbol) [0x00007FF608A0C57B]\n\t(No symbol) [0x00007FF608A02070]\n\t(No symbol) [0x00007FF6089D670A]\n\t(No symbol) [0x00007FF6089D7964]\n\tGetHandleVerifier [0x00007FF608EF0AAB+3694587]\n\tGetHandleVerifier [0x00007FF608F4728E+4048862]\n\tGetHandleVerifier [0x00007FF608F3F173+4015811]\n\tGetHandleVerifier [0x00007FF608C147D6+695590]\n\t(No symbol) [0x00007FF608AF0CE8]\n\t(No symbol) [0x00007FF608AECF34]\n\t(No symbol) [0x00007FF608AED062]\n\t(No symbol) [0x00007FF608ADD3A3]\n\tBaseThreadInitThunk [0x00007FF953887344+20]\n\tRtlUserThreadStart [0x00007FF9558026B1+33]\n"
     ]
    }
   ],
   "source": [
    "driver.current_window_handle"
   ]
  },
  {
   "cell_type": "code",
   "execution_count": 15,
   "metadata": {},
   "outputs": [],
   "source": [
    "windows = driver.window_handles\n",
    "window_to_keep = driver.current_window_handle\n",
    "for window in windows:\n",
    "    if (window != window_to_keep):\n",
    "        driver.switch_to.window(window)\n",
    "        driver.close()"
   ]
  },
  {
   "cell_type": "code",
   "execution_count": 14,
   "metadata": {},
   "outputs": [
    {
     "name": "stdout",
     "output_type": "stream",
     "text": [
      "35895BDBB4FDA7A9A750C4E8AF8B9509\n",
      "7A7DF5921A31B0871C08EC6C1A0AB8EF\n"
     ]
    }
   ],
   "source": [
    "windows = driver.window_handles\n",
    "for window in windows:\n",
    "    print(window)"
   ]
  },
  {
   "cell_type": "code",
   "execution_count": 17,
   "metadata": {},
   "outputs": [],
   "source": [
    "env.close()"
   ]
  },
  {
   "cell_type": "code",
   "execution_count": 8,
   "metadata": {},
   "outputs": [
    {
     "data": {
      "text/plain": [
       "{'keywords': {'target': 102, 'value': 102},\n",
       " 'interactables': 8,\n",
       " 'actions_taken': 1}"
      ]
     },
     "execution_count": 8,
     "metadata": {},
     "output_type": "execute_result"
    }
   ],
   "source": [
    "state"
   ]
  },
  {
   "cell_type": "code",
   "execution_count": 11,
   "metadata": {},
   "outputs": [
    {
     "name": "stdout",
     "output_type": "stream",
     "text": [
      "{'target': 102, 'value': 102}\n",
      "8\n",
      "1\n"
     ]
    }
   ],
   "source": [
    "for value in state.values():\n",
    "    print(value)"
   ]
  },
  {
   "cell_type": "code",
   "execution_count": 14,
   "metadata": {},
   "outputs": [],
   "source": [
    "def flatten_dict(dictionary):\n",
    "    results = []\n",
    "    if type(dictionary) == dict:\n",
    "        for values in dictionary.values():\n",
    "            results.extend(flatten_dict(values))\n",
    "    else:\n",
    "        results.append(values)\n",
    "    return results"
   ]
  },
  {
   "cell_type": "code",
   "execution_count": 15,
   "metadata": {},
   "outputs": [
    {
     "ename": "AttributeError",
     "evalue": "'dict_values' object has no attribute 'values'",
     "output_type": "error",
     "traceback": [
      "\u001b[1;31m---------------------------------------------------------------------------\u001b[0m",
      "\u001b[1;31mAttributeError\u001b[0m                            Traceback (most recent call last)",
      "Input \u001b[1;32mIn [15]\u001b[0m, in \u001b[0;36m<cell line: 1>\u001b[1;34m()\u001b[0m\n\u001b[1;32m----> 1\u001b[0m \u001b[43mflatten_dictionary\u001b[49m\u001b[43m(\u001b[49m\u001b[43mstate\u001b[49m\u001b[38;5;241;43m.\u001b[39;49m\u001b[43mvalues\u001b[49m\u001b[43m(\u001b[49m\u001b[43m)\u001b[49m\u001b[43m)\u001b[49m\n",
      "Input \u001b[1;32mIn [14]\u001b[0m, in \u001b[0;36mflatten_dictionary\u001b[1;34m(dictionary)\u001b[0m\n\u001b[0;32m      1\u001b[0m \u001b[38;5;28;01mdef\u001b[39;00m \u001b[38;5;21mflatten_dictionary\u001b[39m(dictionary):\n\u001b[0;32m      2\u001b[0m     results \u001b[38;5;241m=\u001b[39m []\n\u001b[1;32m----> 3\u001b[0m     \u001b[38;5;28;01mfor\u001b[39;00m values \u001b[38;5;129;01min\u001b[39;00m \u001b[43mdictionary\u001b[49m\u001b[38;5;241;43m.\u001b[39;49m\u001b[43mvalues\u001b[49m():\n\u001b[0;32m      4\u001b[0m         \u001b[38;5;28;01mif\u001b[39;00m \u001b[38;5;28mtype\u001b[39m(values) \u001b[38;5;241m==\u001b[39m \u001b[38;5;28mdict\u001b[39m:\n\u001b[0;32m      5\u001b[0m             results\u001b[38;5;241m.\u001b[39mextend(flatten_dictionary(values))\n",
      "\u001b[1;31mAttributeError\u001b[0m: 'dict_values' object has no attribute 'values'"
     ]
    }
   ],
   "source": [
    "flatten_dictionary(state.values())"
   ]
  },
  {
   "cell_type": "code",
   "execution_count": null,
   "metadata": {},
   "outputs": [],
   "source": []
  }
 ],
 "metadata": {
  "kernelspec": {
   "display_name": "Python 3",
   "language": "python",
   "name": "python3"
  },
  "language_info": {
   "codemirror_mode": {
    "name": "ipython",
    "version": 3
   },
   "file_extension": ".py",
   "mimetype": "text/x-python",
   "name": "python",
   "nbconvert_exporter": "python",
   "pygments_lexer": "ipython3",
   "version": "3.10.2"
  }
 },
 "nbformat": 4,
 "nbformat_minor": 2
}
